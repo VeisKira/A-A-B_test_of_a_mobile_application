{
 "cells": [
  {
   "cell_type": "markdown",
   "metadata": {},
   "source": [
    "# A/A/B-тест мобильного приложения по продаже продуктов питания."
   ]
  },
  {
   "cell_type": "markdown",
   "metadata": {},
   "source": [
    "## Описание проекта"
   ]
  },
  {
   "cell_type": "markdown",
   "metadata": {},
   "source": [
    "Стартап продаёт продукты питания. \n",
    "\n",
    "Нужно разобраться, как ведут себя пользователи мобильного приложения:\n",
    "\n",
    "- Изучить воронку продаж. Узнать, как пользователи доходят до покупки. Сколько пользователей доходит до покупки, а сколько — «застревает» на предыдущих шагах? На каких именно?\n",
    "\n",
    "- Исследовать результаты A/A/B-эксперимента. Дизайнеры захотели поменять шрифты во всём приложении, а менеджеры испугались, что пользователям будет непривычно. Договорились принять решение по результатам A/A/B-теста. Пользователей разбили на 3 группы: 2 контрольные со старыми шрифтами и одну экспериментальную — с новыми. Выяснить, какой шрифт лучше.\n",
    "\n",
    "Создание двух групп A вместо одной имеет определённые преимущества. Если две контрольные группы окажутся равны, вы можете быть уверены в точности проведенного тестирования. Если же между значениями A и A будут существенные различия, это поможет обнаружить факторы, которые привели к искажению результатов. Сравнение контрольных групп также помогает понять, сколько времени и данных потребуется для дальнейших тестов.\n",
    "\n",
    "В случае общей аналитики и A/A/B-эксперимента работать будем с одними и теми же данными."
   ]
  },
  {
   "cell_type": "markdown",
   "metadata": {},
   "source": [
    "## Исследовательский анализ данных"
   ]
  },
  {
   "cell_type": "markdown",
   "metadata": {},
   "source": [
    "### Импорт библиотек"
   ]
  },
  {
   "cell_type": "code",
   "execution_count": 1,
   "metadata": {},
   "outputs": [],
   "source": [
    "import pandas as pd\n",
    "import matplotlib.pyplot as plt\n",
    "import numpy as np\n",
    "import seaborn as sns\n",
    "from datetime import datetime, timedelta\n",
    "from scipy import stats as st\n",
    "import math as mth\n",
    "from statsmodels.stats.multitest import multipletests"
   ]
  },
  {
   "cell_type": "markdown",
   "metadata": {},
   "source": [
    "### Считывание данных и изучение общей информации"
   ]
  },
  {
   "cell_type": "code",
   "execution_count": 2,
   "metadata": {},
   "outputs": [],
   "source": [
    "logs = pd.read_csv('/datasets/logs_exp.csv', sep = '\\t')"
   ]
  },
  {
   "cell_type": "code",
   "execution_count": 3,
   "metadata": {},
   "outputs": [
    {
     "data": {
      "text/html": [
       "<div>\n",
       "<style scoped>\n",
       "    .dataframe tbody tr th:only-of-type {\n",
       "        vertical-align: middle;\n",
       "    }\n",
       "\n",
       "    .dataframe tbody tr th {\n",
       "        vertical-align: top;\n",
       "    }\n",
       "\n",
       "    .dataframe thead th {\n",
       "        text-align: right;\n",
       "    }\n",
       "</style>\n",
       "<table border=\"1\" class=\"dataframe\">\n",
       "  <thead>\n",
       "    <tr style=\"text-align: right;\">\n",
       "      <th></th>\n",
       "      <th>EventName</th>\n",
       "      <th>DeviceIDHash</th>\n",
       "      <th>EventTimestamp</th>\n",
       "      <th>ExpId</th>\n",
       "    </tr>\n",
       "  </thead>\n",
       "  <tbody>\n",
       "    <tr>\n",
       "      <th>0</th>\n",
       "      <td>MainScreenAppear</td>\n",
       "      <td>4575588528974610257</td>\n",
       "      <td>1564029816</td>\n",
       "      <td>246</td>\n",
       "    </tr>\n",
       "    <tr>\n",
       "      <th>1</th>\n",
       "      <td>MainScreenAppear</td>\n",
       "      <td>7416695313311560658</td>\n",
       "      <td>1564053102</td>\n",
       "      <td>246</td>\n",
       "    </tr>\n",
       "    <tr>\n",
       "      <th>2</th>\n",
       "      <td>PaymentScreenSuccessful</td>\n",
       "      <td>3518123091307005509</td>\n",
       "      <td>1564054127</td>\n",
       "      <td>248</td>\n",
       "    </tr>\n",
       "    <tr>\n",
       "      <th>3</th>\n",
       "      <td>CartScreenAppear</td>\n",
       "      <td>3518123091307005509</td>\n",
       "      <td>1564054127</td>\n",
       "      <td>248</td>\n",
       "    </tr>\n",
       "    <tr>\n",
       "      <th>4</th>\n",
       "      <td>PaymentScreenSuccessful</td>\n",
       "      <td>6217807653094995999</td>\n",
       "      <td>1564055322</td>\n",
       "      <td>248</td>\n",
       "    </tr>\n",
       "    <tr>\n",
       "      <th>5</th>\n",
       "      <td>CartScreenAppear</td>\n",
       "      <td>6217807653094995999</td>\n",
       "      <td>1564055323</td>\n",
       "      <td>248</td>\n",
       "    </tr>\n",
       "    <tr>\n",
       "      <th>6</th>\n",
       "      <td>OffersScreenAppear</td>\n",
       "      <td>8351860793733343758</td>\n",
       "      <td>1564066242</td>\n",
       "      <td>246</td>\n",
       "    </tr>\n",
       "    <tr>\n",
       "      <th>7</th>\n",
       "      <td>MainScreenAppear</td>\n",
       "      <td>5682100281902512875</td>\n",
       "      <td>1564085677</td>\n",
       "      <td>246</td>\n",
       "    </tr>\n",
       "    <tr>\n",
       "      <th>8</th>\n",
       "      <td>MainScreenAppear</td>\n",
       "      <td>1850981295691852772</td>\n",
       "      <td>1564086702</td>\n",
       "      <td>247</td>\n",
       "    </tr>\n",
       "    <tr>\n",
       "      <th>9</th>\n",
       "      <td>MainScreenAppear</td>\n",
       "      <td>5407636962369102641</td>\n",
       "      <td>1564112112</td>\n",
       "      <td>246</td>\n",
       "    </tr>\n",
       "  </tbody>\n",
       "</table>\n",
       "</div>"
      ],
      "text/plain": [
       "                 EventName         DeviceIDHash  EventTimestamp  ExpId\n",
       "0         MainScreenAppear  4575588528974610257      1564029816    246\n",
       "1         MainScreenAppear  7416695313311560658      1564053102    246\n",
       "2  PaymentScreenSuccessful  3518123091307005509      1564054127    248\n",
       "3         CartScreenAppear  3518123091307005509      1564054127    248\n",
       "4  PaymentScreenSuccessful  6217807653094995999      1564055322    248\n",
       "5         CartScreenAppear  6217807653094995999      1564055323    248\n",
       "6       OffersScreenAppear  8351860793733343758      1564066242    246\n",
       "7         MainScreenAppear  5682100281902512875      1564085677    246\n",
       "8         MainScreenAppear  1850981295691852772      1564086702    247\n",
       "9         MainScreenAppear  5407636962369102641      1564112112    246"
      ]
     },
     "execution_count": 3,
     "metadata": {},
     "output_type": "execute_result"
    }
   ],
   "source": [
    "logs.head(10)"
   ]
  },
  {
   "cell_type": "code",
   "execution_count": 4,
   "metadata": {},
   "outputs": [
    {
     "name": "stdout",
     "output_type": "stream",
     "text": [
      "<class 'pandas.core.frame.DataFrame'>\n",
      "RangeIndex: 244126 entries, 0 to 244125\n",
      "Data columns (total 4 columns):\n",
      " #   Column          Non-Null Count   Dtype \n",
      "---  ------          --------------   ----- \n",
      " 0   EventName       244126 non-null  object\n",
      " 1   DeviceIDHash    244126 non-null  int64 \n",
      " 2   EventTimestamp  244126 non-null  int64 \n",
      " 3   ExpId           244126 non-null  int64 \n",
      "dtypes: int64(3), object(1)\n",
      "memory usage: 7.5+ MB\n"
     ]
    }
   ],
   "source": [
    "logs.info()"
   ]
  },
  {
   "cell_type": "markdown",
   "metadata": {},
   "source": [
    "#### Вывод"
   ]
  },
  {
   "cell_type": "markdown",
   "metadata": {},
   "source": [
    "Датафрейм содержит следующие столбцы:\n",
    "\n",
    "- **EventName** — название события;\n",
    "\n",
    "\n",
    "- **DeviceIDHash** — уникальный идентификатор пользователя;\n",
    "\n",
    "\n",
    "- **EventTimestam** — время события;\n",
    "\n",
    "\n",
    "- **ExpId** — номер эксперимента: 246 и 247 — контрольные группы, а 248 — экспериментальная.\n",
    "\n",
    "В общем сожержится  информация о 244126 событиях. "
   ]
  },
  {
   "cell_type": "markdown",
   "metadata": {},
   "source": [
    "### Преобработка данных"
   ]
  },
  {
   "cell_type": "markdown",
   "metadata": {},
   "source": [
    "#### Замена названий столбцов"
   ]
  },
  {
   "cell_type": "code",
   "execution_count": 5,
   "metadata": {},
   "outputs": [],
   "source": [
    "logs.columns = ['event_name', 'user_id', 'timestamp', 'group']"
   ]
  },
  {
   "cell_type": "markdown",
   "metadata": {},
   "source": [
    "#### Изменение типов данных"
   ]
  },
  {
   "cell_type": "code",
   "execution_count": 6,
   "metadata": {},
   "outputs": [],
   "source": [
    "# преобразование типа данных в столбце о времени\n",
    "\n",
    "logs.timestamp = pd.to_datetime(logs.timestamp, unit='s')"
   ]
  },
  {
   "cell_type": "code",
   "execution_count": 7,
   "metadata": {},
   "outputs": [
    {
     "name": "stdout",
     "output_type": "stream",
     "text": [
      "<class 'pandas.core.frame.DataFrame'>\n",
      "RangeIndex: 244126 entries, 0 to 244125\n",
      "Data columns (total 4 columns):\n",
      " #   Column      Non-Null Count   Dtype         \n",
      "---  ------      --------------   -----         \n",
      " 0   event_name  244126 non-null  object        \n",
      " 1   user_id     244126 non-null  int64         \n",
      " 2   timestamp   244126 non-null  datetime64[ns]\n",
      " 3   group       244126 non-null  int64         \n",
      "dtypes: datetime64[ns](1), int64(2), object(1)\n",
      "memory usage: 7.5+ MB\n"
     ]
    }
   ],
   "source": [
    "logs.info()"
   ]
  },
  {
   "cell_type": "markdown",
   "metadata": {},
   "source": [
    "#### Проверка пропусков, дубликатов и типов данных."
   ]
  },
  {
   "cell_type": "code",
   "execution_count": 8,
   "metadata": {},
   "outputs": [
    {
     "data": {
      "text/plain": [
       "event_name    0\n",
       "user_id       0\n",
       "timestamp     0\n",
       "group         0\n",
       "dtype: int64"
      ]
     },
     "execution_count": 8,
     "metadata": {},
     "output_type": "execute_result"
    }
   ],
   "source": [
    "#пропуски:\n",
    "\n",
    "logs.isna().sum()"
   ]
  },
  {
   "cell_type": "markdown",
   "metadata": {},
   "source": [
    "Пропусков в данных не обнаружено"
   ]
  },
  {
   "cell_type": "code",
   "execution_count": 9,
   "metadata": {},
   "outputs": [
    {
     "data": {
      "text/plain": [
       "413"
      ]
     },
     "execution_count": 9,
     "metadata": {},
     "output_type": "execute_result"
    }
   ],
   "source": [
    "#явные дубликаты:\n",
    "\n",
    "logs.duplicated().sum()"
   ]
  },
  {
   "cell_type": "markdown",
   "metadata": {},
   "source": [
    "Обнаружено 413 явных дубликатов"
   ]
  },
  {
   "cell_type": "code",
   "execution_count": 10,
   "metadata": {},
   "outputs": [
    {
     "name": "stdout",
     "output_type": "stream",
     "text": [
      "Доля явных дубликатов составляет 0.2%\n"
     ]
    }
   ],
   "source": [
    "#посчитаем долю явных дубликатов, чтобы понять можно ли их удалить\n",
    "\n",
    "print(f\"Доля явных дубликатов составляет {logs.duplicated().sum()/logs['user_id'].count():.1%}\")"
   ]
  },
  {
   "cell_type": "code",
   "execution_count": 11,
   "metadata": {},
   "outputs": [],
   "source": [
    "#удалим явные дубликаты так как их доля менее 1 %\n",
    "\n",
    "logs = logs.drop_duplicates().reset_index(drop=True)"
   ]
  },
  {
   "cell_type": "code",
   "execution_count": 12,
   "metadata": {},
   "outputs": [
    {
     "data": {
      "text/plain": [
       "0"
      ]
     },
     "execution_count": 12,
     "metadata": {},
     "output_type": "execute_result"
    }
   ],
   "source": [
    "# проверим еще раз на явные дубликаты после удаления\n",
    "\n",
    "logs.duplicated().sum()"
   ]
  },
  {
   "cell_type": "code",
   "execution_count": 13,
   "metadata": {},
   "outputs": [
    {
     "name": "stdout",
     "output_type": "stream",
     "text": [
      "<class 'pandas.core.frame.DataFrame'>\n",
      "RangeIndex: 243713 entries, 0 to 243712\n",
      "Data columns (total 4 columns):\n",
      " #   Column      Non-Null Count   Dtype         \n",
      "---  ------      --------------   -----         \n",
      " 0   event_name  243713 non-null  object        \n",
      " 1   user_id     243713 non-null  int64         \n",
      " 2   timestamp   243713 non-null  datetime64[ns]\n",
      " 3   group       243713 non-null  int64         \n",
      "dtypes: datetime64[ns](1), int64(2), object(1)\n",
      "memory usage: 7.4+ MB\n"
     ]
    }
   ],
   "source": [
    "# посмотрим общую ифнормацию после удаления\n",
    "\n",
    "logs.info()"
   ]
  },
  {
   "cell_type": "markdown",
   "metadata": {},
   "source": [
    "#### Добавление столбца даты и времени, а также отдельного столбца дат"
   ]
  },
  {
   "cell_type": "code",
   "execution_count": 14,
   "metadata": {},
   "outputs": [],
   "source": [
    "# Создадим столбец`datetime` с датой и временем:\n",
    "\n",
    "logs['dt'] = pd.to_datetime(logs['timestamp'], unit='s')"
   ]
  },
  {
   "cell_type": "code",
   "execution_count": 15,
   "metadata": {},
   "outputs": [],
   "source": [
    "# Добавим столбец с датой:\n",
    "\n",
    "logs['date'] = pd.to_datetime(logs['dt'].dt.date)"
   ]
  },
  {
   "cell_type": "code",
   "execution_count": 16,
   "metadata": {},
   "outputs": [
    {
     "data": {
      "text/html": [
       "<div>\n",
       "<style scoped>\n",
       "    .dataframe tbody tr th:only-of-type {\n",
       "        vertical-align: middle;\n",
       "    }\n",
       "\n",
       "    .dataframe tbody tr th {\n",
       "        vertical-align: top;\n",
       "    }\n",
       "\n",
       "    .dataframe thead th {\n",
       "        text-align: right;\n",
       "    }\n",
       "</style>\n",
       "<table border=\"1\" class=\"dataframe\">\n",
       "  <thead>\n",
       "    <tr style=\"text-align: right;\">\n",
       "      <th></th>\n",
       "      <th>event_name</th>\n",
       "      <th>user_id</th>\n",
       "      <th>timestamp</th>\n",
       "      <th>group</th>\n",
       "      <th>dt</th>\n",
       "      <th>date</th>\n",
       "    </tr>\n",
       "  </thead>\n",
       "  <tbody>\n",
       "    <tr>\n",
       "      <th>0</th>\n",
       "      <td>MainScreenAppear</td>\n",
       "      <td>4575588528974610257</td>\n",
       "      <td>2019-07-25 04:43:36</td>\n",
       "      <td>246</td>\n",
       "      <td>2019-07-25 04:43:36</td>\n",
       "      <td>2019-07-25</td>\n",
       "    </tr>\n",
       "    <tr>\n",
       "      <th>1</th>\n",
       "      <td>MainScreenAppear</td>\n",
       "      <td>7416695313311560658</td>\n",
       "      <td>2019-07-25 11:11:42</td>\n",
       "      <td>246</td>\n",
       "      <td>2019-07-25 11:11:42</td>\n",
       "      <td>2019-07-25</td>\n",
       "    </tr>\n",
       "    <tr>\n",
       "      <th>2</th>\n",
       "      <td>PaymentScreenSuccessful</td>\n",
       "      <td>3518123091307005509</td>\n",
       "      <td>2019-07-25 11:28:47</td>\n",
       "      <td>248</td>\n",
       "      <td>2019-07-25 11:28:47</td>\n",
       "      <td>2019-07-25</td>\n",
       "    </tr>\n",
       "    <tr>\n",
       "      <th>3</th>\n",
       "      <td>CartScreenAppear</td>\n",
       "      <td>3518123091307005509</td>\n",
       "      <td>2019-07-25 11:28:47</td>\n",
       "      <td>248</td>\n",
       "      <td>2019-07-25 11:28:47</td>\n",
       "      <td>2019-07-25</td>\n",
       "    </tr>\n",
       "    <tr>\n",
       "      <th>4</th>\n",
       "      <td>PaymentScreenSuccessful</td>\n",
       "      <td>6217807653094995999</td>\n",
       "      <td>2019-07-25 11:48:42</td>\n",
       "      <td>248</td>\n",
       "      <td>2019-07-25 11:48:42</td>\n",
       "      <td>2019-07-25</td>\n",
       "    </tr>\n",
       "  </tbody>\n",
       "</table>\n",
       "</div>"
      ],
      "text/plain": [
       "                event_name              user_id           timestamp  group  \\\n",
       "0         MainScreenAppear  4575588528974610257 2019-07-25 04:43:36    246   \n",
       "1         MainScreenAppear  7416695313311560658 2019-07-25 11:11:42    246   \n",
       "2  PaymentScreenSuccessful  3518123091307005509 2019-07-25 11:28:47    248   \n",
       "3         CartScreenAppear  3518123091307005509 2019-07-25 11:28:47    248   \n",
       "4  PaymentScreenSuccessful  6217807653094995999 2019-07-25 11:48:42    248   \n",
       "\n",
       "                   dt       date  \n",
       "0 2019-07-25 04:43:36 2019-07-25  \n",
       "1 2019-07-25 11:11:42 2019-07-25  \n",
       "2 2019-07-25 11:28:47 2019-07-25  \n",
       "3 2019-07-25 11:28:47 2019-07-25  \n",
       "4 2019-07-25 11:48:42 2019-07-25  "
      ]
     },
     "execution_count": 16,
     "metadata": {},
     "output_type": "execute_result"
    }
   ],
   "source": [
    "logs.head()"
   ]
  },
  {
   "cell_type": "markdown",
   "metadata": {},
   "source": [
    "#### Проверка на пересечение пользователей в группах"
   ]
  },
  {
   "cell_type": "code",
   "execution_count": 17,
   "metadata": {},
   "outputs": [],
   "source": [
    "#создадим списки уникальных пользователей в каждой группе\n",
    "\n",
    "g246 = logs.query('group == 246')['user_id'].unique()\n",
    "g247 = logs.query('group == 247')['user_id'].unique()\n",
    "g248 = logs.query('group == 248')['user_id'].unique()"
   ]
  },
  {
   "cell_type": "code",
   "execution_count": 18,
   "metadata": {},
   "outputs": [
    {
     "name": "stdout",
     "output_type": "stream",
     "text": [
      "0\n"
     ]
    }
   ],
   "source": [
    "#проверим пересечения в группах 246 и 247\n",
    "\n",
    "intersection_1 = []\n",
    "for i in g246:\n",
    "  if i in g247:\n",
    "    intersection_1.append(i)\n",
    "print(len(intersection_1))"
   ]
  },
  {
   "cell_type": "code",
   "execution_count": 19,
   "metadata": {},
   "outputs": [
    {
     "name": "stdout",
     "output_type": "stream",
     "text": [
      "0\n"
     ]
    }
   ],
   "source": [
    "#проверим пересечения в группах 246 и 248\n",
    "\n",
    "intersection_2 = []\n",
    "for i in g246:\n",
    "  if i in g248:\n",
    "    intersection_2.append(i)\n",
    "print(len(intersection_2))"
   ]
  },
  {
   "cell_type": "code",
   "execution_count": 20,
   "metadata": {},
   "outputs": [
    {
     "name": "stdout",
     "output_type": "stream",
     "text": [
      "0\n"
     ]
    }
   ],
   "source": [
    "#проверим пересечения в группах 247 и 248\n",
    "\n",
    "intersection_3 = []\n",
    "for i in g247:\n",
    "  if i in g248:\n",
    "    intersection_3.append(i)\n",
    "print(len(intersection_3))"
   ]
  },
  {
   "cell_type": "markdown",
   "metadata": {},
   "source": [
    "#### Вывод"
   ]
  },
  {
   "cell_type": "markdown",
   "metadata": {},
   "source": [
    "На этапе предобработки данных:\n",
    "\n",
    "- произведена замена названий столбцов\n",
    "- изменен тип данных в столбце о времени\n",
    "- пропусков в данных не обнаружено\n",
    "- обнаружено число явных дубликатов 413, что составляет 0,2% от общих данных, поэтому они были удалены\n",
    "- создали столбец с датой и временем\n",
    "- создали отдельный столбец с датами\n",
    "- пересечение данных в группах не выявлено\n"
   ]
  },
  {
   "cell_type": "markdown",
   "metadata": {},
   "source": [
    "## Изучение и проверка данных"
   ]
  },
  {
   "cell_type": "markdown",
   "metadata": {},
   "source": [
    "### Общее количество событий в логе"
   ]
  },
  {
   "cell_type": "code",
   "execution_count": 21,
   "metadata": {},
   "outputs": [
    {
     "data": {
      "text/plain": [
       "243713"
      ]
     },
     "execution_count": 21,
     "metadata": {},
     "output_type": "execute_result"
    }
   ],
   "source": [
    "logs['event_name'].count()"
   ]
  },
  {
   "cell_type": "code",
   "execution_count": 22,
   "metadata": {},
   "outputs": [
    {
     "name": "stdout",
     "output_type": "stream",
     "text": [
      "Всего в логе осталось 243713 событий.\n"
     ]
    }
   ],
   "source": [
    "print(f'Всего в логе осталось {len(logs)} событий.')"
   ]
  },
  {
   "cell_type": "markdown",
   "metadata": {},
   "source": [
    "### Общее количество пользователей в логе"
   ]
  },
  {
   "cell_type": "code",
   "execution_count": 23,
   "metadata": {},
   "outputs": [
    {
     "data": {
      "text/plain": [
       "7551"
      ]
     },
     "execution_count": 23,
     "metadata": {},
     "output_type": "execute_result"
    }
   ],
   "source": [
    "logs['user_id'].nunique()"
   ]
  },
  {
   "cell_type": "code",
   "execution_count": 24,
   "metadata": {},
   "outputs": [
    {
     "name": "stdout",
     "output_type": "stream",
     "text": [
      "Всего пользователей в логе 7551.\n"
     ]
    }
   ],
   "source": [
    "print(f'Всего пользователей в логе {len(logs.user_id.unique())}.')"
   ]
  },
  {
   "cell_type": "markdown",
   "metadata": {},
   "source": [
    "### Сколько в среднем событий приходится на пользователя"
   ]
  },
  {
   "cell_type": "code",
   "execution_count": 25,
   "metadata": {},
   "outputs": [
    {
     "data": {
      "text/plain": [
       "20.0"
      ]
     },
     "execution_count": 25,
     "metadata": {},
     "output_type": "execute_result"
    }
   ],
   "source": [
    "logs.groupby('user_id')['event_name'].agg('count').median() #медианное значение"
   ]
  },
  {
   "cell_type": "code",
   "execution_count": 26,
   "metadata": {},
   "outputs": [
    {
     "name": "stdout",
     "output_type": "stream",
     "text": [
      "В среднем на пользователя приходится 32 события.\n"
     ]
    }
   ],
   "source": [
    "print(f'В среднем на пользователя приходится {int(len(logs) / len(logs.user_id.unique()))} события.')"
   ]
  },
  {
   "cell_type": "code",
   "execution_count": 27,
   "metadata": {},
   "outputs": [
    {
     "data": {
      "text/html": [
       "<div>\n",
       "<style scoped>\n",
       "    .dataframe tbody tr th:only-of-type {\n",
       "        vertical-align: middle;\n",
       "    }\n",
       "\n",
       "    .dataframe tbody tr th {\n",
       "        vertical-align: top;\n",
       "    }\n",
       "\n",
       "    .dataframe thead th {\n",
       "        text-align: right;\n",
       "    }\n",
       "</style>\n",
       "<table border=\"1\" class=\"dataframe\">\n",
       "  <thead>\n",
       "    <tr style=\"text-align: right;\">\n",
       "      <th></th>\n",
       "      <th>event_name</th>\n",
       "    </tr>\n",
       "  </thead>\n",
       "  <tbody>\n",
       "    <tr>\n",
       "      <th>count</th>\n",
       "      <td>7551.0</td>\n",
       "    </tr>\n",
       "    <tr>\n",
       "      <th>mean</th>\n",
       "      <td>32.0</td>\n",
       "    </tr>\n",
       "    <tr>\n",
       "      <th>std</th>\n",
       "      <td>65.0</td>\n",
       "    </tr>\n",
       "    <tr>\n",
       "      <th>min</th>\n",
       "      <td>1.0</td>\n",
       "    </tr>\n",
       "    <tr>\n",
       "      <th>5%</th>\n",
       "      <td>3.0</td>\n",
       "    </tr>\n",
       "    <tr>\n",
       "      <th>25%</th>\n",
       "      <td>9.0</td>\n",
       "    </tr>\n",
       "    <tr>\n",
       "      <th>50%</th>\n",
       "      <td>20.0</td>\n",
       "    </tr>\n",
       "    <tr>\n",
       "      <th>75%</th>\n",
       "      <td>37.0</td>\n",
       "    </tr>\n",
       "    <tr>\n",
       "      <th>95%</th>\n",
       "      <td>89.0</td>\n",
       "    </tr>\n",
       "    <tr>\n",
       "      <th>99%</th>\n",
       "      <td>200.0</td>\n",
       "    </tr>\n",
       "    <tr>\n",
       "      <th>max</th>\n",
       "      <td>2307.0</td>\n",
       "    </tr>\n",
       "  </tbody>\n",
       "</table>\n",
       "</div>"
      ],
      "text/plain": [
       "       event_name\n",
       "count      7551.0\n",
       "mean         32.0\n",
       "std          65.0\n",
       "min           1.0\n",
       "5%            3.0\n",
       "25%           9.0\n",
       "50%          20.0\n",
       "75%          37.0\n",
       "95%          89.0\n",
       "99%         200.0\n",
       "max        2307.0"
      ]
     },
     "execution_count": 27,
     "metadata": {},
     "output_type": "execute_result"
    }
   ],
   "source": [
    "round(logs.groupby('user_id')[['event_name']].count().describe(percentiles=[0.05, 1/4, 1/2, 3/4, 0.95, 0.99]),0)"
   ]
  },
  {
   "cell_type": "markdown",
   "metadata": {},
   "source": [
    "В среднем, на каждого пользователя приходится 32 события. \n",
    "\n",
    "Медианна составляет 20 событий.\n",
    "\n",
    "У одного процента пользователей  количество событий более 200."
   ]
  },
  {
   "cell_type": "markdown",
   "metadata": {},
   "source": [
    "### Определение максимальной и минимальной даты данных которыми располагаем"
   ]
  },
  {
   "cell_type": "code",
   "execution_count": 28,
   "metadata": {},
   "outputs": [
    {
     "name": "stdout",
     "output_type": "stream",
     "text": [
      "2019-07-25 04:43:36\n"
     ]
    }
   ],
   "source": [
    "#минимальная дата:\n",
    "\n",
    "print(logs['dt'].min())"
   ]
  },
  {
   "cell_type": "code",
   "execution_count": 29,
   "metadata": {},
   "outputs": [
    {
     "name": "stdout",
     "output_type": "stream",
     "text": [
      "2019-08-07 21:15:17\n"
     ]
    }
   ],
   "source": [
    "#максимальная дата:\n",
    "\n",
    "print(logs['dt'].max())"
   ]
  },
  {
   "cell_type": "markdown",
   "metadata": {},
   "source": [
    "### Построение столбчатой диаграммы, которая отобразит количество событий в зависимости от времени в разрезе групп"
   ]
  },
  {
   "cell_type": "code",
   "execution_count": 30,
   "metadata": {},
   "outputs": [
    {
     "data": {
      "image/png": "[encoded data removed]",
      "text/plain": [
       "<Figure size 1080x720 with 1 Axes>"
      ]
     },
     "metadata": {
      "needs_background": "light"
     },
     "output_type": "display_data"
    }
   ],
   "source": [
    "logs['dt'].hist(bins=100,  figsize=(15, 10))\n",
    "plt.title('Распределение событий по дате')\n",
    "plt.ylabel('Количество событий')\n",
    "plt.xlabel('Дата')\n",
    "plt.show()"
   ]
  },
  {
   "cell_type": "markdown",
   "metadata": {},
   "source": [
    "**Даны данные за две недели: с 25.07.19 по 07.08.2019.\n",
    "По гистограмме видно, что с 01.08.19 произошел резкий скачок в данных, поэтому данные до этой даты вероятно можно считать устаревшими.**"
   ]
  },
  {
   "cell_type": "markdown",
   "metadata": {},
   "source": [
    "### Технически в логи новых дней по некоторым пользователям могут «доезжать» события из прошлого — это может «перекашивать данные». Отбросим более старые данные"
   ]
  },
  {
   "cell_type": "code",
   "execution_count": 31,
   "metadata": {},
   "outputs": [],
   "source": [
    "#отбросим период с неполными датами:\n",
    "\n",
    "logs_act = logs.query('dt >= \"2019-08-01\"')"
   ]
  },
  {
   "cell_type": "code",
   "execution_count": 32,
   "metadata": {},
   "outputs": [
    {
     "name": "stdout",
     "output_type": "stream",
     "text": [
      "98.84% - доля событий после фильтрации\n",
      "Всего пользователей после фильтрации 7534.\n",
      "\n",
      "group\n",
      "246    2484\n",
      "247    2513\n",
      "248    2537\n",
      "Name: user_id, dtype: int64\n"
     ]
    }
   ],
   "source": [
    "print(f'{(len(logs_act) / len(logs)):.2%} - доля событий после фильтрации')\n",
    "print(f'Всего пользователей после фильтрации {len(logs_act.user_id.unique())}.')\n",
    "print()\n",
    "print(logs_act.groupby('group')['user_id'].nunique())"
   ]
  },
  {
   "cell_type": "markdown",
   "metadata": {},
   "source": [
    "**После того как отбросили период с неполными данымми, начиная от 1 августа 2019 года, осталось 98,84% данных.**"
   ]
  },
  {
   "cell_type": "markdown",
   "metadata": {},
   "source": [
    "### Проверка - много ли событий и пользователей  потеряли, отбросив старые данные"
   ]
  },
  {
   "cell_type": "code",
   "execution_count": 33,
   "metadata": {},
   "outputs": [
    {
     "data": {
      "text/plain": [
       "2826"
      ]
     },
     "execution_count": 33,
     "metadata": {},
     "output_type": "execute_result"
    }
   ],
   "source": [
    "#посчитаем потерю событий:\n",
    "\n",
    "len(logs) - len(logs_act)"
   ]
  },
  {
   "cell_type": "code",
   "execution_count": 34,
   "metadata": {},
   "outputs": [
    {
     "name": "stdout",
     "output_type": "stream",
     "text": [
      "доля потерянных событий 1.2%\n"
     ]
    }
   ],
   "source": [
    "print(f\"доля потерянных событий {(len(logs) - len(logs_act))/len(logs):.1%}\")"
   ]
  },
  {
   "cell_type": "code",
   "execution_count": 35,
   "metadata": {},
   "outputs": [
    {
     "data": {
      "text/plain": [
       "17"
      ]
     },
     "execution_count": 35,
     "metadata": {},
     "output_type": "execute_result"
    }
   ],
   "source": [
    "#посчитаем потерю пользователей:\n",
    "\n",
    "logs['user_id'].nunique()-logs_act['user_id'].nunique()"
   ]
  },
  {
   "cell_type": "code",
   "execution_count": 36,
   "metadata": {},
   "outputs": [
    {
     "name": "stdout",
     "output_type": "stream",
     "text": [
      "доля потерянных пользователей 0.2%\n"
     ]
    }
   ],
   "source": [
    "print(f\"доля потерянных пользователей {(logs['user_id'].nunique()-logs_act['user_id'].nunique())/logs['user_id'].nunique():.1%}\")"
   ]
  },
  {
   "cell_type": "markdown",
   "metadata": {},
   "source": [
    "### Проверка - есть пользователи из всех трёх экспериментальных групп"
   ]
  },
  {
   "cell_type": "code",
   "execution_count": 37,
   "metadata": {},
   "outputs": [
    {
     "name": "stdout",
     "output_type": "stream",
     "text": [
      "group\n",
      "246    2484\n",
      "247    2513\n",
      "248    2537\n",
      "Name: user_id, dtype: int64\n"
     ]
    }
   ],
   "source": [
    "#проверим, есть ли пользователи из всех трёх экспериментальных групп.\n",
    "\n",
    "print(logs_act.groupby('group')['user_id'].nunique())"
   ]
  },
  {
   "cell_type": "markdown",
   "metadata": {},
   "source": [
    "### Вывод"
   ]
  },
  {
   "cell_type": "markdown",
   "metadata": {},
   "source": [
    "До фильтрации:\n",
    "\n",
    "- событий в логе: 243713\n",
    "\n",
    "- уникальных пользователей: 7551\n",
    "\n",
    "- В среднем, на каждого пользователя приходится 32 события.Медианна составляет 20 событий.У одного процента пользователей количество событий более 200.\n",
    "\n",
    "\n",
    "Определили минимальную и максимальную дату событий: 2019-07-25 и 2019-08-07 соответственно, однако полные данные оказались лишь 2019-08-01 по 2019-08-07\n",
    "\n",
    "Обросили неполные данные и посчитали потери:\n",
    "\n",
    "-потеря событий всего 2826 из 243713 (1,2%)\n",
    "\n",
    "-потеря пользователей 17 из 7551 (0,2%)\n",
    "\n",
    "Таким образом, после фильтрации остается почти 99% лога и 7534 из 7551 пользователей. Среди них представители всех трех групп эксперимента и размеры групп примерно равны."
   ]
  },
  {
   "cell_type": "markdown",
   "metadata": {},
   "source": [
    "## Изучение воронки событий"
   ]
  },
  {
   "cell_type": "markdown",
   "metadata": {},
   "source": [
    "### Просмотр -  какие события есть в логах, как часто они встречаются. Отсортирование событий по частоте"
   ]
  },
  {
   "cell_type": "code",
   "execution_count": 38,
   "metadata": {},
   "outputs": [
    {
     "data": {
      "text/html": [
       "<div>\n",
       "<style scoped>\n",
       "    .dataframe tbody tr th:only-of-type {\n",
       "        vertical-align: middle;\n",
       "    }\n",
       "\n",
       "    .dataframe tbody tr th {\n",
       "        vertical-align: top;\n",
       "    }\n",
       "\n",
       "    .dataframe thead th {\n",
       "        text-align: right;\n",
       "    }\n",
       "</style>\n",
       "<table border=\"1\" class=\"dataframe\">\n",
       "  <thead>\n",
       "    <tr style=\"text-align: right;\">\n",
       "      <th></th>\n",
       "      <th>count</th>\n",
       "    </tr>\n",
       "    <tr>\n",
       "      <th>event_name</th>\n",
       "      <th></th>\n",
       "    </tr>\n",
       "  </thead>\n",
       "  <tbody>\n",
       "    <tr>\n",
       "      <th>MainScreenAppear</th>\n",
       "      <td>117328</td>\n",
       "    </tr>\n",
       "    <tr>\n",
       "      <th>OffersScreenAppear</th>\n",
       "      <td>46333</td>\n",
       "    </tr>\n",
       "    <tr>\n",
       "      <th>CartScreenAppear</th>\n",
       "      <td>42303</td>\n",
       "    </tr>\n",
       "    <tr>\n",
       "      <th>PaymentScreenSuccessful</th>\n",
       "      <td>33918</td>\n",
       "    </tr>\n",
       "    <tr>\n",
       "      <th>Tutorial</th>\n",
       "      <td>1005</td>\n",
       "    </tr>\n",
       "  </tbody>\n",
       "</table>\n",
       "</div>"
      ],
      "text/plain": [
       "                          count\n",
       "event_name                     \n",
       "MainScreenAppear         117328\n",
       "OffersScreenAppear        46333\n",
       "CartScreenAppear          42303\n",
       "PaymentScreenSuccessful   33918\n",
       "Tutorial                   1005"
      ]
     },
     "execution_count": 38,
     "metadata": {},
     "output_type": "execute_result"
    }
   ],
   "source": [
    "logs_act.groupby('event_name').agg(count = ('user_id', 'count')).sort_values(by = 'count', ascending=False)"
   ]
  },
  {
   "cell_type": "markdown",
   "metadata": {},
   "source": [
    "Событий пять:\n",
    "\n",
    "**MainScreenAppear** - просмотр главной страницы\n",
    "\n",
    "**OffersScreenAppear** - просмотр страницы предложений\n",
    "\n",
    "**CartScreenAppear** - просмотр корзины\n",
    "\n",
    "**PaymentScreenSuccessful** - переход на страницу успешной оплаты\n",
    "\n",
    "**Tutorial** - просмотр обучающей информации для новых пользователей"
   ]
  },
  {
   "cell_type": "markdown",
   "metadata": {},
   "source": [
    "### Подсчет, сколько пользователей совершали каждое из событий. Отсортирование событий по числу пользователей. Подсчет доли пользователей, которые хоть раз совершали событие"
   ]
  },
  {
   "cell_type": "code",
   "execution_count": 39,
   "metadata": {},
   "outputs": [
    {
     "data": {
      "text/html": [
       "<div>\n",
       "<style scoped>\n",
       "    .dataframe tbody tr th:only-of-type {\n",
       "        vertical-align: middle;\n",
       "    }\n",
       "\n",
       "    .dataframe tbody tr th {\n",
       "        vertical-align: top;\n",
       "    }\n",
       "\n",
       "    .dataframe thead th {\n",
       "        text-align: right;\n",
       "    }\n",
       "</style>\n",
       "<table border=\"1\" class=\"dataframe\">\n",
       "  <thead>\n",
       "    <tr style=\"text-align: right;\">\n",
       "      <th></th>\n",
       "      <th>users</th>\n",
       "      <th>ratio</th>\n",
       "    </tr>\n",
       "    <tr>\n",
       "      <th>event_name</th>\n",
       "      <th></th>\n",
       "      <th></th>\n",
       "    </tr>\n",
       "  </thead>\n",
       "  <tbody>\n",
       "    <tr>\n",
       "      <th>MainScreenAppear</th>\n",
       "      <td>7419</td>\n",
       "      <td>98.47</td>\n",
       "    </tr>\n",
       "    <tr>\n",
       "      <th>OffersScreenAppear</th>\n",
       "      <td>4593</td>\n",
       "      <td>60.96</td>\n",
       "    </tr>\n",
       "    <tr>\n",
       "      <th>CartScreenAppear</th>\n",
       "      <td>3734</td>\n",
       "      <td>49.56</td>\n",
       "    </tr>\n",
       "    <tr>\n",
       "      <th>PaymentScreenSuccessful</th>\n",
       "      <td>3539</td>\n",
       "      <td>46.97</td>\n",
       "    </tr>\n",
       "    <tr>\n",
       "      <th>Tutorial</th>\n",
       "      <td>840</td>\n",
       "      <td>11.15</td>\n",
       "    </tr>\n",
       "  </tbody>\n",
       "</table>\n",
       "</div>"
      ],
      "text/plain": [
       "                         users  ratio\n",
       "event_name                           \n",
       "MainScreenAppear          7419  98.47\n",
       "OffersScreenAppear        4593  60.96\n",
       "CartScreenAppear          3734  49.56\n",
       "PaymentScreenSuccessful   3539  46.97\n",
       "Tutorial                   840  11.15"
      ]
     },
     "execution_count": 39,
     "metadata": {},
     "output_type": "execute_result"
    }
   ],
   "source": [
    "user_per_event = logs_act.groupby('event_name').agg(users=('user_id','nunique')).sort_values('users', ascending=False)\n",
    "user_per_event['ratio'] = round(user_per_event['users']/logs_act['user_id'].nunique() * 100, 2)\n",
    "user_per_event"
   ]
  },
  {
   "cell_type": "markdown",
   "metadata": {},
   "source": [
    "Не все пользователи проходят через просмотр главной страницы 98.47%.\n",
    "\n",
    "Самый большой скачок посещаемости - между главной страницей и страницей предложений - почти 40% пользователей туда не приходят.\n",
    "\n",
    "Всего до успешной оплаты доходят 47% пользователей приложения."
   ]
  },
  {
   "cell_type": "markdown",
   "metadata": {},
   "source": [
    "### Предположение о порядке происхождения событий"
   ]
  },
  {
   "cell_type": "markdown",
   "metadata": {},
   "source": [
    "Предположим, что пользователь:\n",
    "\n",
    "1. сначала открывает главную страницу приложения(MainScreenAppear)\n",
    "\n",
    "2. потом в каталоге выбирает товары(OffersScreenAppear)\n",
    "\n",
    "3. кладёт их в корзину(CartScreenAppear)\n",
    "\n",
    "4. оплачивает(PaymentScreenSuccessful)\n",
    "\n",
    "руководство в эту цепочку не входит(Tutorial)"
   ]
  },
  {
   "cell_type": "markdown",
   "metadata": {},
   "source": [
    "### По воронке событий поcчитаем какая доля пользователей проходит на следующий шаг воронки (от числа пользователей на предыдущем). То есть для последовательности событий A → B → C посчитаем отношение числа пользователей с событием B к количеству пользователей с событием A, а также отношение числа пользователей с событием C к количеству пользователей с событием B."
   ]
  },
  {
   "cell_type": "code",
   "execution_count": 40,
   "metadata": {},
   "outputs": [],
   "source": [
    "#создадим сводную таблицу с количеством уникальных пользователей совершавших каждое из событий\n",
    "\n",
    "user_to_event = logs.query('event_name != \"Tutorial\"').pivot_table(index = 'event_name', values = 'user_id', aggfunc = 'nunique').sort_values(by = 'user_id', ascending = False)"
   ]
  },
  {
   "cell_type": "code",
   "execution_count": 41,
   "metadata": {},
   "outputs": [],
   "source": [
    "#добавим столбец со смещенными значениями количества пользователей методом shift\n",
    "\n",
    "#недостающее значение заполним первым значением столбца параметром fill_value\n",
    "\n",
    "user_to_event['shift'] = user_to_event['user_id'].shift(1, fill_value = user_to_event['user_id'].loc[user_to_event.index[0]])"
   ]
  },
  {
   "cell_type": "code",
   "execution_count": 42,
   "metadata": {},
   "outputs": [],
   "source": [
    "#посчитаем и добавим столбец с конверсией округленной до 1 десятка\n",
    "\n",
    "user_to_event['conversion'] = round(user_to_event['user_id']/user_to_event['shift']*100, 1)"
   ]
  },
  {
   "cell_type": "code",
   "execution_count": 43,
   "metadata": {
    "scrolled": true
   },
   "outputs": [
    {
     "data": {
      "text/html": [
       "<div>\n",
       "<style scoped>\n",
       "    .dataframe tbody tr th:only-of-type {\n",
       "        vertical-align: middle;\n",
       "    }\n",
       "\n",
       "    .dataframe tbody tr th {\n",
       "        vertical-align: top;\n",
       "    }\n",
       "\n",
       "    .dataframe thead th {\n",
       "        text-align: right;\n",
       "    }\n",
       "</style>\n",
       "<table border=\"1\" class=\"dataframe\">\n",
       "  <thead>\n",
       "    <tr style=\"text-align: right;\">\n",
       "      <th></th>\n",
       "      <th>user_id</th>\n",
       "      <th>conversion</th>\n",
       "    </tr>\n",
       "    <tr>\n",
       "      <th>event_name</th>\n",
       "      <th></th>\n",
       "      <th></th>\n",
       "    </tr>\n",
       "  </thead>\n",
       "  <tbody>\n",
       "    <tr>\n",
       "      <th>MainScreenAppear</th>\n",
       "      <td>7439</td>\n",
       "      <td>100.0</td>\n",
       "    </tr>\n",
       "    <tr>\n",
       "      <th>OffersScreenAppear</th>\n",
       "      <td>4613</td>\n",
       "      <td>62.0</td>\n",
       "    </tr>\n",
       "    <tr>\n",
       "      <th>CartScreenAppear</th>\n",
       "      <td>3749</td>\n",
       "      <td>81.3</td>\n",
       "    </tr>\n",
       "    <tr>\n",
       "      <th>PaymentScreenSuccessful</th>\n",
       "      <td>3547</td>\n",
       "      <td>94.6</td>\n",
       "    </tr>\n",
       "  </tbody>\n",
       "</table>\n",
       "</div>"
      ],
      "text/plain": [
       "                         user_id  conversion\n",
       "event_name                                  \n",
       "MainScreenAppear            7439       100.0\n",
       "OffersScreenAppear          4613        62.0\n",
       "CartScreenAppear            3749        81.3\n",
       "PaymentScreenSuccessful     3547        94.6"
      ]
     },
     "execution_count": 43,
     "metadata": {},
     "output_type": "execute_result"
    }
   ],
   "source": [
    "#в итоговой таблице оставим только количество уникальных пользователей и конверсией\n",
    "\n",
    "user_to_event = user_to_event[['user_id', 'conversion']]\n",
    "user_to_event"
   ]
  },
  {
   "cell_type": "markdown",
   "metadata": {},
   "source": [
    "### На каком шаге теряется больше всего пользователей"
   ]
  },
  {
   "cell_type": "markdown",
   "metadata": {},
   "source": [
    "Большинство пользователей теряется после просмотра главной страницы и переходом в каталог (около 40%)."
   ]
  },
  {
   "cell_type": "markdown",
   "metadata": {},
   "source": [
    "### Какая доля пользователей доходит от первого события до оплаты"
   ]
  },
  {
   "cell_type": "code",
   "execution_count": 44,
   "metadata": {},
   "outputs": [
    {
     "name": "stdout",
     "output_type": "stream",
     "text": [
      "Доля пользователей прошедших от первого события до оплаты 47.7%\n"
     ]
    }
   ],
   "source": [
    "print(f\"Доля пользователей прошедших от первого события до оплаты {user_to_event['user_id'].loc[user_to_event.index[-1]]/user_to_event['user_id'].loc[user_to_event.index[0]]:.1%}\")"
   ]
  },
  {
   "cell_type": "markdown",
   "metadata": {},
   "source": [
    "### Вывод"
   ]
  },
  {
   "cell_type": "markdown",
   "metadata": {},
   "source": [
    "Как часто встречаются события в логе:\n",
    "\n",
    "- **MainScreenAppear** - 117328 раз\n",
    "\n",
    "- **OffersScreenAppear** - 46333 раз\n",
    "\n",
    "- **CartScreenAppear** - 42303 раз\n",
    "\n",
    "- **PaymentScreenSuccessful** - 33918 раз\n",
    "\n",
    "- **Tutorial** - 1005 раз.\n",
    "\n",
    "\n",
    "Сколько пользователей совершали каждое из событий и долю пользователей, которые хоть раз совершали событие:\n",
    "\n",
    "\n",
    "- **MainScreenAppear** - 7419 пользователей (98.47%)\n",
    "\n",
    "- **OffersScreenAppear** - 4593 пользователей (60.96%)\n",
    "\n",
    "- **СartScreenAppear** - 3734 пользователей (49.56%)\n",
    "\n",
    "- **PaymentScreenSuccessful** - 3539 пользователей (46.97%)\n",
    "\n",
    "- **Tutoria** - 840 пользователей (11.15%)\n",
    "\n",
    "\n",
    "**Предположительно события происходят в следующем порядке:**\n",
    "\n",
    "1. Пользователь открывает главную страницу приложения (MainScreenAppear)\n",
    "\n",
    "2. Переходит в каталог(OffersScreenAppear)\n",
    "\n",
    "3. Выбранные товары кладет в корзину(CartScreenAppear)\n",
    "\n",
    "4. Оплачивает(PaymentScreenSuccessful)\n",
    "\n",
    "\n",
    "Откинули событие Tutorial, так как руководство в эту цепочку не входит\n",
    "\n",
    "По воронке событий посчитали, какая доля пользователей проходит на следующий шаг воронки (от числа пользователей на предыдущем):\n",
    "\n",
    "- до второго шага доходит 4613 пользователей, доля от предыдущего шага 62.0%\n",
    "\n",
    "- до третьего шага доходит 3749 пользователей, доля от предыдущего шага 81.3%\n",
    "\n",
    "- до четвертого шага доходит 3547, доля от предыдущего шага 94.6%\n",
    "\n",
    "\n",
    "Больше всего пользователей теряется на втором шаге: доля тех кто зашел на главную страницу и перешел в каталог - 62.0%\n",
    "\n",
    "\n",
    "Доля пользователей прошедших от первого события до оплаты 47.7%"
   ]
  },
  {
   "cell_type": "markdown",
   "metadata": {},
   "source": [
    "## Изучение результатов эксперимента"
   ]
  },
  {
   "cell_type": "markdown",
   "metadata": {},
   "source": [
    "### Сколько пользователей в каждой экспериментальной группе"
   ]
  },
  {
   "cell_type": "code",
   "execution_count": 45,
   "metadata": {},
   "outputs": [
    {
     "data": {
      "text/html": [
       "<div>\n",
       "<style scoped>\n",
       "    .dataframe tbody tr th:only-of-type {\n",
       "        vertical-align: middle;\n",
       "    }\n",
       "\n",
       "    .dataframe tbody tr th {\n",
       "        vertical-align: top;\n",
       "    }\n",
       "\n",
       "    .dataframe thead th {\n",
       "        text-align: right;\n",
       "    }\n",
       "</style>\n",
       "<table border=\"1\" class=\"dataframe\">\n",
       "  <thead>\n",
       "    <tr style=\"text-align: right;\">\n",
       "      <th></th>\n",
       "      <th>user_id</th>\n",
       "    </tr>\n",
       "    <tr>\n",
       "      <th>group</th>\n",
       "      <th></th>\n",
       "    </tr>\n",
       "  </thead>\n",
       "  <tbody>\n",
       "    <tr>\n",
       "      <th>246</th>\n",
       "      <td>2484</td>\n",
       "    </tr>\n",
       "    <tr>\n",
       "      <th>247</th>\n",
       "      <td>2513</td>\n",
       "    </tr>\n",
       "    <tr>\n",
       "      <th>248</th>\n",
       "      <td>2537</td>\n",
       "    </tr>\n",
       "  </tbody>\n",
       "</table>\n",
       "</div>"
      ],
      "text/plain": [
       "       user_id\n",
       "group         \n",
       "246       2484\n",
       "247       2513\n",
       "248       2537"
      ]
     },
     "execution_count": 45,
     "metadata": {},
     "output_type": "execute_result"
    }
   ],
   "source": [
    "logs_act.pivot_table(index = 'group', values = 'user_id', aggfunc = 'nunique')"
   ]
  },
  {
   "cell_type": "markdown",
   "metadata": {},
   "source": [
    "### Есть 2 контрольные группы для А/А-эксперимента, чтобы проверить корректность всех механизмов и расчётов нужно проверить находят ли статистические критерии разницу между выборками 246 и 247"
   ]
  },
  {
   "cell_type": "markdown",
   "metadata": {},
   "source": [
    "**Критерии успешного A/A-теста:**\n",
    "\n",
    "- Количество пользователей в различных группах различается не более, чем на 1%;\n",
    "\n",
    "- Для всех групп фиксируют и отправляют в системы аналитики данные об одном и том же;\n",
    "\n",
    "- Различие ключевых метрик по группам не превышает 1% и не имеет статистической значимости;\n",
    "\n",
    "- Попавший в одну из групп посетитель остаётся в этой группе до конца теста."
   ]
  },
  {
   "cell_type": "markdown",
   "metadata": {},
   "source": [
    "### Выберем самое популярное событие. Посчитаем число пользователей, совершивших это событие в каждой из контрольных групп. Посчитаем долю пользователей, совершивших это событие. Проверим, будет ли отличие между группами статистически достоверным. Проделаем то же самое для всех других событий (удобно обернуть проверку в отдельную функцию)."
   ]
  },
  {
   "cell_type": "code",
   "execution_count": 46,
   "metadata": {},
   "outputs": [],
   "source": [
    "#Создадим отдельные датасеты с группами\n",
    "\n",
    "group_246 = logs_act.query('group == 246')\n",
    "group_247 = logs_act.query('group == 247')\n",
    "group_248 = logs_act.query('group == 248')"
   ]
  },
  {
   "cell_type": "code",
   "execution_count": 47,
   "metadata": {},
   "outputs": [
    {
     "data": {
      "text/html": [
       "<div>\n",
       "<style scoped>\n",
       "    .dataframe tbody tr th:only-of-type {\n",
       "        vertical-align: middle;\n",
       "    }\n",
       "\n",
       "    .dataframe tbody tr th {\n",
       "        vertical-align: top;\n",
       "    }\n",
       "\n",
       "    .dataframe thead th {\n",
       "        text-align: right;\n",
       "    }\n",
       "</style>\n",
       "<table border=\"1\" class=\"dataframe\">\n",
       "  <thead>\n",
       "    <tr style=\"text-align: right;\">\n",
       "      <th></th>\n",
       "      <th>user_id</th>\n",
       "    </tr>\n",
       "    <tr>\n",
       "      <th>event_name</th>\n",
       "      <th></th>\n",
       "    </tr>\n",
       "  </thead>\n",
       "  <tbody>\n",
       "    <tr>\n",
       "      <th>MainScreenAppear</th>\n",
       "      <td>2450</td>\n",
       "    </tr>\n",
       "    <tr>\n",
       "      <th>OffersScreenAppear</th>\n",
       "      <td>1542</td>\n",
       "    </tr>\n",
       "    <tr>\n",
       "      <th>CartScreenAppear</th>\n",
       "      <td>1266</td>\n",
       "    </tr>\n",
       "    <tr>\n",
       "      <th>PaymentScreenSuccessful</th>\n",
       "      <td>1200</td>\n",
       "    </tr>\n",
       "    <tr>\n",
       "      <th>Tutorial</th>\n",
       "      <td>278</td>\n",
       "    </tr>\n",
       "  </tbody>\n",
       "</table>\n",
       "</div>"
      ],
      "text/plain": [
       "                         user_id\n",
       "event_name                      \n",
       "MainScreenAppear            2450\n",
       "OffersScreenAppear          1542\n",
       "CartScreenAppear            1266\n",
       "PaymentScreenSuccessful     1200\n",
       "Tutorial                     278"
      ]
     },
     "execution_count": 47,
     "metadata": {},
     "output_type": "execute_result"
    }
   ],
   "source": [
    "#самое популярное событие в группе 246\n",
    "group_246.pivot_table(index = 'event_name', values = 'user_id', aggfunc = 'nunique').sort_values(by = 'user_id', ascending = False)"
   ]
  },
  {
   "cell_type": "code",
   "execution_count": 48,
   "metadata": {},
   "outputs": [
    {
     "data": {
      "text/html": [
       "<div>\n",
       "<style scoped>\n",
       "    .dataframe tbody tr th:only-of-type {\n",
       "        vertical-align: middle;\n",
       "    }\n",
       "\n",
       "    .dataframe tbody tr th {\n",
       "        vertical-align: top;\n",
       "    }\n",
       "\n",
       "    .dataframe thead th {\n",
       "        text-align: right;\n",
       "    }\n",
       "</style>\n",
       "<table border=\"1\" class=\"dataframe\">\n",
       "  <thead>\n",
       "    <tr style=\"text-align: right;\">\n",
       "      <th></th>\n",
       "      <th>user_id</th>\n",
       "    </tr>\n",
       "    <tr>\n",
       "      <th>event_name</th>\n",
       "      <th></th>\n",
       "    </tr>\n",
       "  </thead>\n",
       "  <tbody>\n",
       "    <tr>\n",
       "      <th>MainScreenAppear</th>\n",
       "      <td>2476</td>\n",
       "    </tr>\n",
       "    <tr>\n",
       "      <th>OffersScreenAppear</th>\n",
       "      <td>1520</td>\n",
       "    </tr>\n",
       "    <tr>\n",
       "      <th>CartScreenAppear</th>\n",
       "      <td>1238</td>\n",
       "    </tr>\n",
       "    <tr>\n",
       "      <th>PaymentScreenSuccessful</th>\n",
       "      <td>1158</td>\n",
       "    </tr>\n",
       "    <tr>\n",
       "      <th>Tutorial</th>\n",
       "      <td>283</td>\n",
       "    </tr>\n",
       "  </tbody>\n",
       "</table>\n",
       "</div>"
      ],
      "text/plain": [
       "                         user_id\n",
       "event_name                      \n",
       "MainScreenAppear            2476\n",
       "OffersScreenAppear          1520\n",
       "CartScreenAppear            1238\n",
       "PaymentScreenSuccessful     1158\n",
       "Tutorial                     283"
      ]
     },
     "execution_count": 48,
     "metadata": {},
     "output_type": "execute_result"
    }
   ],
   "source": [
    "#самое популярное событие в группе 247\n",
    "group_247.pivot_table(index = 'event_name', values = 'user_id', aggfunc = 'nunique').sort_values(by = 'user_id', ascending = False)"
   ]
  },
  {
   "cell_type": "code",
   "execution_count": 49,
   "metadata": {},
   "outputs": [
    {
     "data": {
      "text/html": [
       "<div>\n",
       "<style scoped>\n",
       "    .dataframe tbody tr th:only-of-type {\n",
       "        vertical-align: middle;\n",
       "    }\n",
       "\n",
       "    .dataframe tbody tr th {\n",
       "        vertical-align: top;\n",
       "    }\n",
       "\n",
       "    .dataframe thead th {\n",
       "        text-align: right;\n",
       "    }\n",
       "</style>\n",
       "<table border=\"1\" class=\"dataframe\">\n",
       "  <thead>\n",
       "    <tr style=\"text-align: right;\">\n",
       "      <th>group</th>\n",
       "      <th>event_name</th>\n",
       "      <th>246</th>\n",
       "      <th>247</th>\n",
       "      <th>248</th>\n",
       "      <th>All</th>\n",
       "    </tr>\n",
       "  </thead>\n",
       "  <tbody>\n",
       "    <tr>\n",
       "      <th>0</th>\n",
       "      <td>MainScreenAppear</td>\n",
       "      <td>2450</td>\n",
       "      <td>2476</td>\n",
       "      <td>2493</td>\n",
       "      <td>7419</td>\n",
       "    </tr>\n",
       "    <tr>\n",
       "      <th>1</th>\n",
       "      <td>OffersScreenAppear</td>\n",
       "      <td>1542</td>\n",
       "      <td>1520</td>\n",
       "      <td>1531</td>\n",
       "      <td>4593</td>\n",
       "    </tr>\n",
       "    <tr>\n",
       "      <th>2</th>\n",
       "      <td>CartScreenAppear</td>\n",
       "      <td>1266</td>\n",
       "      <td>1238</td>\n",
       "      <td>1230</td>\n",
       "      <td>3734</td>\n",
       "    </tr>\n",
       "    <tr>\n",
       "      <th>3</th>\n",
       "      <td>PaymentScreenSuccessful</td>\n",
       "      <td>1200</td>\n",
       "      <td>1158</td>\n",
       "      <td>1181</td>\n",
       "      <td>3539</td>\n",
       "    </tr>\n",
       "    <tr>\n",
       "      <th>4</th>\n",
       "      <td>Tutorial</td>\n",
       "      <td>278</td>\n",
       "      <td>283</td>\n",
       "      <td>279</td>\n",
       "      <td>840</td>\n",
       "    </tr>\n",
       "    <tr>\n",
       "      <th>5</th>\n",
       "      <td>All</td>\n",
       "      <td>2484</td>\n",
       "      <td>2513</td>\n",
       "      <td>2537</td>\n",
       "      <td>7534</td>\n",
       "    </tr>\n",
       "  </tbody>\n",
       "</table>\n",
       "</div>"
      ],
      "text/plain": [
       "group               event_name   246   247   248   All\n",
       "0             MainScreenAppear  2450  2476  2493  7419\n",
       "1           OffersScreenAppear  1542  1520  1531  4593\n",
       "2             CartScreenAppear  1266  1238  1230  3734\n",
       "3      PaymentScreenSuccessful  1200  1158  1181  3539\n",
       "4                     Tutorial   278   283   279   840\n",
       "5                          All  2484  2513  2537  7534"
      ]
     },
     "execution_count": 49,
     "metadata": {},
     "output_type": "execute_result"
    }
   ],
   "source": [
    "# составим общую таблицу пользователей по группам и событиям\n",
    "\n",
    "events_groups = logs_act.pivot_table(index='event_name', columns='group', values='user_id', aggfunc='nunique', margins=True).reset_index().sort_values('All', ascending=False).reset_index(drop=True)\n",
    "events_groups = events_groups.reindex([1, 2, 3, 4, 5, 0]).reset_index(drop=True)\n",
    "events_groups"
   ]
  },
  {
   "cell_type": "markdown",
   "metadata": {},
   "source": [
    "**Самым популярным событием является посещение главной страницы - MainScreenAppear**"
   ]
  },
  {
   "cell_type": "markdown",
   "metadata": {},
   "source": [
    "**Гипотезы:**\n",
    "\n",
    "**Нулевая гипотеза H0**:Между долями статистической значимой разницы нет, поведение групп не отличается\n",
    "\n",
    "**Альтернативная гипотеза H1**:Между долями статистическая значимая разница есть, поведение групп отличается."
   ]
  },
  {
   "cell_type": "code",
   "execution_count": 50,
   "metadata": {},
   "outputs": [
    {
     "name": "stdout",
     "output_type": "stream",
     "text": [
      "p-значение:  0.758737151572354\n",
      "Не получилось отвергнуть нулевую гипотезу, нет оснований считать доли разными\n"
     ]
    }
   ],
   "source": [
    "#критический уровень статистической значимости\n",
    "alpha = 0.05\n",
    "    \n",
    "#количсество уникальных пользователей совершивших событие в каждой группе \n",
    "un_users_event = np.array([group_246[group_246['event_name'] == 'MainScreenAppear']['user_id'].nunique(), group_247[group_247['event_name'] == 'MainScreenAppear']['user_id'].nunique()])\n",
    "        \n",
    "#количество уникальных пользователей в группах\n",
    "un_users_group = np.array([group_246['user_id'].nunique(), group_247['user_id'].nunique()])\n",
    "    \n",
    "# пропорция успехов в первой группе:\n",
    "p1 = un_users_event[0]/un_users_group[0]\n",
    "# пропорция успехов во второй группе:\n",
    "p2 = un_users_event[1]/un_users_group[1]\n",
    "    \n",
    "# пропорция успехов в комбинированном датасете:\n",
    "p_combined = (un_users_event[0] + un_users_event[1]) / (un_users_group[0] + un_users_group[1])\n",
    "    \n",
    "# разница пропорций в датасетах\n",
    "difference = p1 - p2\n",
    "    \n",
    "# считаем статистику в ст.отклонениях стандартного нормального распределения\n",
    "z_value = difference / mth.sqrt(p_combined * (1 - p_combined) * (1/un_users_event[0] + 1/un_users_event[1]))\n",
    "    \n",
    "# задаем стандартное нормальное распределение (среднее 0, ст.отклонение 1)\n",
    "distr = st.norm(0, 1)  \n",
    "    \n",
    "#Так как распределение статистики нормальное, вызовем метод cdf()\n",
    "#Саму статистику возьмём по модулю методом abs() — чтобы получить правильный результат независимо от её знака.\n",
    "#Это возможно, потому что тест двусторонний. По этой же причине удваиваем результат:\n",
    "p_value = (1 - distr.cdf(abs(z_value))) * 2\n",
    "          \n",
    "print('p-значение: ', p_value)\n",
    "\n",
    "if p_value < alpha:\n",
    "    print('Отвергаем нулевую гипотезу: между долями есть значимая разница')\n",
    "else:\n",
    "    print('Не получилось отвергнуть нулевую гипотезу, нет оснований считать доли разными')"
   ]
  },
  {
   "cell_type": "code",
   "execution_count": 51,
   "metadata": {},
   "outputs": [],
   "source": [
    "#напишем функцию теста статистических различий между группами\n",
    "def test(g1, g2, event_name):\n",
    "    \n",
    "    #критический уровень статистической значимости\n",
    "    alpha = 0.05\n",
    "    \n",
    "    #количсетво уникальных пользователей совершивших событие в каждой группе \n",
    "    un_users_event = np.array([g1[g1['event_name'] == event_name]['user_id'].nunique(), g2[g2['event_name'] == event_name]['user_id'].nunique()])\n",
    "        \n",
    "    #количество уникальных пользователей в группах\n",
    "    un_users_group = np.array([g1['user_id'].nunique(), g2['user_id'].nunique()])\n",
    "    \n",
    "    # пропорция успехов в первой группе:\n",
    "    p1 = un_users_event[0]/un_users_group[0]\n",
    "    # пропорция успехов во второй группе:\n",
    "    p2 = un_users_event[1]/un_users_group[1]\n",
    "    \n",
    "    # пропорция успехов в комбинированном датасете:\n",
    "    p_combined = (un_users_event[0] + un_users_event[1]) / (un_users_group[0] + un_users_group[1])\n",
    "    \n",
    "    # разница пропорций в датасетах\n",
    "    difference = p1 - p2\n",
    "    \n",
    "    # считаем статистику в ст.отклонениях стандартного нормального распределения\n",
    "    z_value = difference / mth.sqrt(p_combined * (1 - p_combined) * (1/un_users_event[0] + 1/un_users_event[1]))\n",
    "    \n",
    "    # задаем стандартное нормальное распределение (среднее 0, ст.отклонение 1)\n",
    "    distr = st.norm(0, 1)  \n",
    "    \n",
    "    #Так как распределение статистики нормальное, вызовем метод cdf()\n",
    "    #Саму статистику возьмём по модулю методом abs() — чтобы получить правильный результат независимо от её знака.\n",
    "    #Это возможно, потому что тест двусторонний. По этой же причине удваиваем результат:\n",
    "    p_value = (1 - distr.cdf(abs(z_value))) * 2\n",
    "    \n",
    "    print(event_name)\n",
    "          \n",
    "    print('p-значение: ', p_value)\n",
    "\n",
    "    if p_value < alpha:\n",
    "        print('Отвергаем нулевую гипотезу: между долями есть значимая разница')\n",
    "    else:\n",
    "        print('Не получилось отвергнуть нулевую гипотезу, нет оснований считать доли разными')\n",
    "    print()"
   ]
  },
  {
   "cell_type": "code",
   "execution_count": 52,
   "metadata": {},
   "outputs": [
    {
     "name": "stdout",
     "output_type": "stream",
     "text": [
      "MainScreenAppear\n",
      "p-значение:  0.758737151572354\n",
      "Не получилось отвергнуть нулевую гипотезу, нет оснований считать доли разными\n",
      "\n",
      "PaymentScreenSuccessful\n",
      "p-значение:  0.2784401253423807\n",
      "Не получилось отвергнуть нулевую гипотезу, нет оснований считать доли разными\n",
      "\n",
      "CartScreenAppear\n",
      "p-значение:  0.39432110136773835\n",
      "Не получилось отвергнуть нулевую гипотезу, нет оснований считать доли разными\n",
      "\n",
      "OffersScreenAppear\n",
      "p-значение:  0.36593695068605325\n",
      "Не получилось отвергнуть нулевую гипотезу, нет оснований считать доли разными\n",
      "\n",
      "Tutorial\n",
      "p-значение:  0.9791070433857165\n",
      "Не получилось отвергнуть нулевую гипотезу, нет оснований считать доли разными\n",
      "\n"
     ]
    }
   ],
   "source": [
    "#создадим список с уникальными событиями:\n",
    "event_name_array = logs['event_name'].unique()\n",
    "#создадим цикл, который будет подставлять в функцию уникальные значения собитый:\n",
    "for event_name in event_name_array:\n",
    "    test(group_246, group_247, event_name)"
   ]
  },
  {
   "cell_type": "markdown",
   "metadata": {},
   "source": [
    "**Статистические критерии разницу между выборками 246 и 247 не находят, т.к. ни для оного из событий разница не оказалось значимой обе эти группы можно считать контрольными. Разбиение на группы работает корректно.**"
   ]
  },
  {
   "cell_type": "markdown",
   "metadata": {},
   "source": [
    "### Аналогично поступим с группой с изменённым шрифтом. Сравним результаты с каждой из контрольных групп в отдельности по каждому событию. Сравним результаты с объединённой контрольной группой"
   ]
  },
  {
   "cell_type": "code",
   "execution_count": 53,
   "metadata": {},
   "outputs": [
    {
     "name": "stdout",
     "output_type": "stream",
     "text": [
      "MainScreenAppear\n",
      "p-значение:  0.2987450335656847\n",
      "Не получилось отвергнуть нулевую гипотезу, нет оснований считать доли разными\n",
      "\n",
      "PaymentScreenSuccessful\n",
      "p-значение:  0.3903369220965023\n",
      "Не получилось отвергнуть нулевую гипотезу, нет оснований считать доли разными\n",
      "\n",
      "CartScreenAppear\n",
      "p-значение:  0.21469452387393084\n",
      "Не получилось отвергнуть нулевую гипотезу, нет оснований считать доли разными\n",
      "\n",
      "OffersScreenAppear\n",
      "p-значение:  0.32498018019986397\n",
      "Не получилось отвергнуть нулевую гипотезу, нет оснований считать доли разными\n",
      "\n",
      "Tutorial\n",
      "p-значение:  0.941774193649735\n",
      "Не получилось отвергнуть нулевую гипотезу, нет оснований считать доли разными\n",
      "\n"
     ]
    }
   ],
   "source": [
    "#Аналогично проверим 1 контрольную группу 246 с группой с изменным шрифтом 248\n",
    "for event_name in event_name_array:\n",
    "    test(group_246, group_248, event_name)"
   ]
  },
  {
   "cell_type": "markdown",
   "metadata": {},
   "source": [
    "**Значимой разницы в поведении пользователей групп 246 и 248 нет**"
   ]
  },
  {
   "cell_type": "code",
   "execution_count": 54,
   "metadata": {},
   "outputs": [
    {
     "name": "stdout",
     "output_type": "stream",
     "text": [
      "MainScreenAppear\n",
      "p-значение:  0.2987450335656847\n",
      "Не получилось отвергнуть нулевую гипотезу, нет оснований считать доли разными\n",
      "\n",
      "PaymentScreenSuccessful\n",
      "p-значение:  0.3903369220965023\n",
      "Не получилось отвергнуть нулевую гипотезу, нет оснований считать доли разными\n",
      "\n",
      "CartScreenAppear\n",
      "p-значение:  0.21469452387393084\n",
      "Не получилось отвергнуть нулевую гипотезу, нет оснований считать доли разными\n",
      "\n",
      "OffersScreenAppear\n",
      "p-значение:  0.32498018019986397\n",
      "Не получилось отвергнуть нулевую гипотезу, нет оснований считать доли разными\n",
      "\n",
      "Tutorial\n",
      "p-значение:  0.941774193649735\n",
      "Не получилось отвергнуть нулевую гипотезу, нет оснований считать доли разными\n",
      "\n"
     ]
    }
   ],
   "source": [
    "#Проверим 2 контрольную группу 247 с группой с изменным шрифтом 248\n",
    "for event_name in event_name_array:\n",
    "    test(group_246, group_248, event_name)"
   ]
  },
  {
   "cell_type": "markdown",
   "metadata": {},
   "source": [
    "**Значимой разницы в поведении пользователей групп 247 и 248 нет**"
   ]
  },
  {
   "cell_type": "code",
   "execution_count": 55,
   "metadata": {},
   "outputs": [],
   "source": [
    "#объеденим группы методом pd.concat\n",
    "group_246_247 = pd.concat([group_246, group_247])"
   ]
  },
  {
   "cell_type": "code",
   "execution_count": 56,
   "metadata": {},
   "outputs": [
    {
     "name": "stdout",
     "output_type": "stream",
     "text": [
      "MainScreenAppear\n",
      "p-значение:  0.2982116211407275\n",
      "Не получилось отвергнуть нулевую гипотезу, нет оснований считать доли разными\n",
      "\n",
      "PaymentScreenSuccessful\n",
      "p-значение:  0.7202057779473505\n",
      "Не получилось отвергнуть нулевую гипотезу, нет оснований считать доли разными\n",
      "\n",
      "CartScreenAppear\n",
      "p-значение:  0.34982490083868933\n",
      "Не получилось отвергнуть нулевую гипотезу, нет оснований считать доли разными\n",
      "\n",
      "OffersScreenAppear\n",
      "p-значение:  0.5425331263544062\n",
      "Не получилось отвергнуть нулевую гипотезу, нет оснований считать доли разными\n",
      "\n",
      "Tutorial\n",
      "p-значение:  0.9207162647272609\n",
      "Не получилось отвергнуть нулевую гипотезу, нет оснований считать доли разными\n",
      "\n"
     ]
    }
   ],
   "source": [
    "#Проверим объедененную контрольную группу с группой с изменным шрифтом 248\n",
    "for event_name in event_name_array:\n",
    "    test(group_246_247, group_248, event_name)"
   ]
  },
  {
   "cell_type": "markdown",
   "metadata": {},
   "source": [
    "**Значимой разницы в поведении пользователей объедененной контрольной группы и эксперементальной группы нет.**\n",
    "\n",
    "**Можно сделать вывод о том, что изменение шрифтов в приложении не повлияло на наведение пользователей.**"
   ]
  },
  {
   "cell_type": "markdown",
   "metadata": {},
   "source": [
    "### Подсчет сколько проверок статистических гипотез сделали"
   ]
  },
  {
   "cell_type": "markdown",
   "metadata": {},
   "source": [
    "Всего сделали 20 проверок статистических гипотез. По-скольку были проведены множественные тесты необходимо применить поправку Шидака и перепроверить результаты тестов повторно."
   ]
  },
  {
   "cell_type": "markdown",
   "metadata": {},
   "source": [
    "Скорректируем значение уровня значимости методом Шидака по формуле: alpha_shidok_corr =  1 - (1-0.05)** (1/20)"
   ]
  },
  {
   "cell_type": "code",
   "execution_count": 57,
   "metadata": {},
   "outputs": [
    {
     "data": {
      "text/plain": [
       "0.0025613787765302876"
      ]
     },
     "execution_count": 57,
     "metadata": {},
     "output_type": "execute_result"
    }
   ],
   "source": [
    "alpha_shidok_corr = 1-(1-0.05)**(1/20)\n",
    "alpha_shidok_corr"
   ]
  },
  {
   "cell_type": "code",
   "execution_count": 58,
   "metadata": {},
   "outputs": [],
   "source": [
    "#напишем функцию теста статистических различий между группами с учетом поправки Шидака\n",
    "def test_shidok_corr(g1, g2, event_name):\n",
    "    \n",
    "    #критический уровень статистической значимости\n",
    "    alpha_shidok_corr = 0.003\n",
    "    \n",
    "    #количсетво уникальных пользователей совершивших событие в каждой группе \n",
    "    un_users_event = np.array([g1[g1['event_name'] == event_name]['user_id'].nunique(), g2[g2['event_name'] == event_name]['user_id'].nunique()])\n",
    "        \n",
    "    #количество уникальных пользователей в группах\n",
    "    un_users_group = np.array([g1['user_id'].nunique(), g2['user_id'].nunique()])\n",
    "    \n",
    "    # пропорция успехов в первой группе:\n",
    "    p1 = un_users_event[0]/un_users_group[0]\n",
    "    # пропорция успехов во второй группе:\n",
    "    p2 = un_users_event[1]/un_users_group[1]\n",
    "    \n",
    "    # пропорция успехов в комбинированном датасете:\n",
    "    p_combined = (un_users_event[0] + un_users_event[1]) / (un_users_group[0] + un_users_group[1])\n",
    "    \n",
    "    # разница пропорций в датасетах\n",
    "    difference = p1 - p2\n",
    "    \n",
    "    # считаем статистику в ст.отклонениях стандартного нормального распределения\n",
    "    z_value = difference / mth.sqrt(p_combined * (1 - p_combined) * (1/un_users_event[0] + 1/un_users_event[1]))\n",
    "    \n",
    "    # задаем стандартное нормальное распределение (среднее 0, ст.отклонение 1)\n",
    "    distr = st.norm(0, 1)  \n",
    "    \n",
    "    #Так как распределение статистики нормальное, вызовем метод cdf()\n",
    "    #Саму статистику возьмём по модулю методом abs() — чтобы получить правильный результат независимо от её знака.\n",
    "    #Это возможно, потому что тест двусторонний. По этой же причине удваиваем результат:\n",
    "    p_value = (1 - distr.cdf(abs(z_value))) * 2\n",
    "    \n",
    "    print(event_name)\n",
    "          \n",
    "    print('p-значение: ', p_value)\n",
    "\n",
    "    if p_value < alpha_shidok_corr:\n",
    "        print('Отвергаем нулевую гипотезу: между долями есть значимая разница')\n",
    "    else:\n",
    "        print('Не получилось отвергнуть нулевую гипотезу, нет оснований считать доли разными')\n",
    "    print()"
   ]
  },
  {
   "cell_type": "markdown",
   "metadata": {},
   "source": [
    "**Повторно для всех тестов перпроверим результаты:**"
   ]
  },
  {
   "cell_type": "code",
   "execution_count": 59,
   "metadata": {},
   "outputs": [
    {
     "name": "stdout",
     "output_type": "stream",
     "text": [
      "MainScreenAppear\n",
      "p-значение:  0.758737151572354\n",
      "Не получилось отвергнуть нулевую гипотезу, нет оснований считать доли разными\n",
      "\n",
      "PaymentScreenSuccessful\n",
      "p-значение:  0.2784401253423807\n",
      "Не получилось отвергнуть нулевую гипотезу, нет оснований считать доли разными\n",
      "\n",
      "CartScreenAppear\n",
      "p-значение:  0.39432110136773835\n",
      "Не получилось отвергнуть нулевую гипотезу, нет оснований считать доли разными\n",
      "\n",
      "OffersScreenAppear\n",
      "p-значение:  0.36593695068605325\n",
      "Не получилось отвергнуть нулевую гипотезу, нет оснований считать доли разными\n",
      "\n",
      "Tutorial\n",
      "p-значение:  0.9791070433857165\n",
      "Не получилось отвергнуть нулевую гипотезу, нет оснований считать доли разными\n",
      "\n"
     ]
    }
   ],
   "source": [
    "for event_name in event_name_array:\n",
    "    test_shidok_corr(group_246, group_247, event_name)"
   ]
  },
  {
   "cell_type": "code",
   "execution_count": 60,
   "metadata": {},
   "outputs": [
    {
     "name": "stdout",
     "output_type": "stream",
     "text": [
      "MainScreenAppear\n",
      "p-значение:  0.2987450335656847\n",
      "Не получилось отвергнуть нулевую гипотезу, нет оснований считать доли разными\n",
      "\n",
      "PaymentScreenSuccessful\n",
      "p-значение:  0.3903369220965023\n",
      "Не получилось отвергнуть нулевую гипотезу, нет оснований считать доли разными\n",
      "\n",
      "CartScreenAppear\n",
      "p-значение:  0.21469452387393084\n",
      "Не получилось отвергнуть нулевую гипотезу, нет оснований считать доли разными\n",
      "\n",
      "OffersScreenAppear\n",
      "p-значение:  0.32498018019986397\n",
      "Не получилось отвергнуть нулевую гипотезу, нет оснований считать доли разными\n",
      "\n",
      "Tutorial\n",
      "p-значение:  0.941774193649735\n",
      "Не получилось отвергнуть нулевую гипотезу, нет оснований считать доли разными\n",
      "\n"
     ]
    }
   ],
   "source": [
    "for event_name in event_name_array:\n",
    "    test_shidok_corr(group_246, group_248, event_name)"
   ]
  },
  {
   "cell_type": "code",
   "execution_count": 61,
   "metadata": {},
   "outputs": [
    {
     "name": "stdout",
     "output_type": "stream",
     "text": [
      "MainScreenAppear\n",
      "p-значение:  0.2987450335656847\n",
      "Не получилось отвергнуть нулевую гипотезу, нет оснований считать доли разными\n",
      "\n",
      "PaymentScreenSuccessful\n",
      "p-значение:  0.3903369220965023\n",
      "Не получилось отвергнуть нулевую гипотезу, нет оснований считать доли разными\n",
      "\n",
      "CartScreenAppear\n",
      "p-значение:  0.21469452387393084\n",
      "Не получилось отвергнуть нулевую гипотезу, нет оснований считать доли разными\n",
      "\n",
      "OffersScreenAppear\n",
      "p-значение:  0.32498018019986397\n",
      "Не получилось отвергнуть нулевую гипотезу, нет оснований считать доли разными\n",
      "\n",
      "Tutorial\n",
      "p-значение:  0.941774193649735\n",
      "Не получилось отвергнуть нулевую гипотезу, нет оснований считать доли разными\n",
      "\n"
     ]
    }
   ],
   "source": [
    "for event_name in event_name_array:\n",
    "    test_shidok_corr(group_246, group_248, event_name)"
   ]
  },
  {
   "cell_type": "code",
   "execution_count": 62,
   "metadata": {},
   "outputs": [
    {
     "name": "stdout",
     "output_type": "stream",
     "text": [
      "MainScreenAppear\n",
      "p-значение:  0.2982116211407275\n",
      "Не получилось отвергнуть нулевую гипотезу, нет оснований считать доли разными\n",
      "\n",
      "PaymentScreenSuccessful\n",
      "p-значение:  0.7202057779473505\n",
      "Не получилось отвергнуть нулевую гипотезу, нет оснований считать доли разными\n",
      "\n",
      "CartScreenAppear\n",
      "p-значение:  0.34982490083868933\n",
      "Не получилось отвергнуть нулевую гипотезу, нет оснований считать доли разными\n",
      "\n",
      "OffersScreenAppear\n",
      "p-значение:  0.5425331263544062\n",
      "Не получилось отвергнуть нулевую гипотезу, нет оснований считать доли разными\n",
      "\n",
      "Tutorial\n",
      "p-значение:  0.9207162647272609\n",
      "Не получилось отвергнуть нулевую гипотезу, нет оснований считать доли разными\n",
      "\n"
     ]
    }
   ],
   "source": [
    "for event_name in event_name_array:\n",
    "    test_shidok_corr(group_246_247, group_248, event_name)"
   ]
  },
  {
   "cell_type": "markdown",
   "metadata": {},
   "source": [
    "**Вывод: с учетом поправки Шидака результаты тестов не изменились**"
   ]
  },
  {
   "cell_type": "markdown",
   "metadata": {},
   "source": [
    "### Вывод"
   ]
  },
  {
   "cell_type": "markdown",
   "metadata": {},
   "source": [
    "Количество уникальных пользователей в каждой группе:\n",
    "\n",
    "- в **246 группе 2484 уникальных пользователей**\n",
    "\n",
    "- в **247 группе 2513 уникальных пользователей**\n",
    "\n",
    "- в **248 группе 2537 уникальных пользователей**\n",
    "\n",
    "Были совершены следующие действия:\n",
    "\n",
    "- Выбрали самое популярное событие - MainScreenAppear \n",
    "\n",
    "- Посчитали число пользователей, совершивших это событие в каждой из контрольных групп\n",
    "\n",
    "- Посчитали долю пользователей, совершивших это событие\n",
    "\n",
    "- Проверели, будет ли отличие между группами статистически достоверным. Проделали то же самое для всех других событий\n",
    "\n",
    "- Создали функцию для теста статистических различий между группами для каждого события\n",
    "\n",
    "**Аналогично поступили с группой с изменённым шрифтом:**\n",
    "\n",
    "- сравнили результаты с каждой из контрольных групп в отдельности по каждому событию\n",
    "\n",
    "- сравнили результаты с объединённой контрольной группой\n",
    "\n",
    "**Итоги:**\n",
    "\n",
    "1. сравнение групп 246 и 247:\n",
    "    - Статистические критерии разницу между выборками 246 и 247 не находят, т.к. ни для оного из событий разница не оказалось значимой обе эти группы можно считать контрольными. Разбиение на группы работает корректно.\n",
    "2. сравнение групп 246 и 248:\n",
    "    - Значимой разницы в поведении пользователей групп 246 и 248 нет.\n",
    "3. сравнение групп 247 и 248:\n",
    "    - Значимой разницы в поведении пользователей групп 247 и 248 нет.\n",
    "4. сравнение групп 246+247 и 248:\n",
    "    - Значимой разницы в поведении пользователей объедененной контрольной группы и эксперементальной группы нет."
   ]
  },
  {
   "cell_type": "markdown",
   "metadata": {},
   "source": [
    "## Вывод"
   ]
  },
  {
   "cell_type": "markdown",
   "metadata": {},
   "source": [
    "\n",
    "Стартап продаёт продукты питания. \n",
    "\n",
    "Нужно разобраться, как ведут себя пользователи мобильного приложения:\n",
    "\n",
    "- Изучить воронку продаж. Узнать, как пользователи доходят до покупки. Сколько пользователей доходит до покупки, а сколько — «застревает» на предыдущих шагах? На каких именно?\n",
    "\n",
    "- Исследовать результаты A/A/B-эксперимента. Дизайнеры захотели поменять шрифты во всём приложении, а менеджеры испугались, что пользователям будет непривычно. Договорились принять решение по результатам A/A/B-теста. Пользователей разбили на 3 группы: 2 контрольные со старыми шрифтами и одну экспериментальную — с новыми. Выяснить, какой шрифт лучше.\n",
    "\n",
    "Создание двух групп A вместо одной имеет определённые преимущества. Если две контрольные группы окажутся равны, вы можете быть уверены в точности проведенного тестирования. Если же между значениями A и A будут существенные различия, это поможет обнаружить факторы, которые привели к искажению результатов. Сравнение контрольных групп также помогает понять, сколько времени и данных потребуется для дальнейших тестов.\n",
    "\n",
    "В случае общей аналитики и A/A/B-эксперимента работать будем с одними и теми же данными.\n",
    "\n",
    "Каждая запись в логе — это действие пользователя, или событие. \n",
    "\n",
    "**EventName** — название события;\n",
    "\n",
    "**DeviceIDHash** — уникальный идентификатор пользователя;\n",
    "\n",
    "**EventTimestamp** — время события;\n",
    "\n",
    "**ExpId** — номер эксперимента: 246 и 247 — контрольные группы, а 248 — экспериментальная.\n",
    "\n",
    "В общем сожержится  информация о 244126 событиях. \n",
    "\n",
    "\n",
    "На этапе предобработки данных:\n",
    "\n",
    "- произведена замена названий столбцов\n",
    "- изменен тип данных в столбце о времени\n",
    "- пропусков в данных не обнаружено\n",
    "- обнаружено число явных дубликатов 413, что составляет 0,2% от общих данных, поэтому они были удалены\n",
    "- создали столбец с датой и временем\n",
    "- создали отдельный столбец с датами\n",
    "- пересечение данных в группах не выявлено\n",
    "\n",
    "До фильтрации:\n",
    "\n",
    "- событий в логе: 243713\n",
    "\n",
    "- уникальных пользователей: 7551\n",
    "\n",
    "- В среднем, на каждого пользователя приходится 32 события.Медианна составляет 20 событий.У одного процента пользователей количество событий более 200.\n",
    "\n",
    "\n",
    "Определили минимальную и максимальную дату событий: 2019-07-25 и 2019-08-07 соответственно, однако полные данные оказались лишь 2019-08-01 по 2019-08-07\n",
    "\n",
    "Обросили неполные данные и посчитали потери:\n",
    "\n",
    "-потеря событий всего 2826 из 243713 (1,2%)\n",
    "\n",
    "-потеря пользователей 17 из 7551 (0,2%)\n",
    "\n",
    "Таким образом, после фильтрации остается почти 99% лога и 7534 из 7551 пользователей. Среди них представители всех трех групп эксперимента и размеры групп примерно равны.\n",
    "\n",
    "Как часто встречаются события в логе:\n",
    "\n",
    "- **MainScreenAppear** - 117328 раз\n",
    "\n",
    "- **OffersScreenAppear** - 46333 раз\n",
    "\n",
    "- **CartScreenAppear** - 42303 раз\n",
    "\n",
    "- **PaymentScreenSuccessful** - 33918 раз\n",
    "\n",
    "- **Tutorial** - 1005 раз.\n",
    "\n",
    "\n",
    "Сколько пользователей совершали каждое из событий и долю пользователей, которые хоть раз совершали событие:\n",
    "\n",
    "\n",
    "- **MainScreenAppear** - 7419 пользователей (98.47%)\n",
    "\n",
    "- **OffersScreenAppear** - 4593 пользователей (60.96%)\n",
    "\n",
    "- **СartScreenAppear** - 3734 пользователей (49.56%)\n",
    "\n",
    "- **PaymentScreenSuccessful** - 3539 пользователей (46.97%)\n",
    "\n",
    "- **Tutoria** - 840 пользователей (11.15%)\n",
    "\n",
    "\n",
    "**Предположительно события происходят в следующем порядке:**\n",
    "\n",
    "1. Пользователь открывает главную страницу приложения (MainScreenAppear)\n",
    "\n",
    "2. Переходит в каталог(OffersScreenAppear)\n",
    "\n",
    "3. Выбранные товары кладет в корзину(CartScreenAppear)\n",
    "\n",
    "4. Оплачивает(PaymentScreenSuccessful)\n",
    "\n",
    "\n",
    "Откинули событие Tutorial, так как руководство в эту цепочку не входит\n",
    "\n",
    "По воронке событий посчитали, какая доля пользователей проходит на следующий шаг воронки (от числа пользователей на предыдущем):\n",
    "\n",
    "- до второго шага доходит 4613 пользователей, доля от предыдущего шага 62.0%\n",
    "\n",
    "- до третьего шага доходит 3749 пользователей, доля от предыдущего шага 81.3%\n",
    "\n",
    "- до четвертого шага доходит 3547, доля от предыдущего шага 94.6%\n",
    "\n",
    "\n",
    "Больше всего пользователей теряется на втором шаге: доля тех кто зашел на главную страницу и перешел в каталог - 62.0%\n",
    "\n",
    "\n",
    "Доля пользователей прошедших от первого события до оплаты 47.7%\n",
    "\n",
    "**Критерии успешного A/A-теста:**\n",
    "\n",
    "- Количество пользователей в различных группах различается не более, чем на 1%;\n",
    "\n",
    "- Для всех групп фиксируют и отправляют в системы аналитики данные об одном и том же;\n",
    "\n",
    "- Различие ключевых метрик по группам не превышает 1% и не имеет статистической значимости;\n",
    "\n",
    "- Попавший в одну из групп посетитель остаётся в этой группе до конца теста.\n",
    "\n",
    "\n",
    "Критический уровень статистической значимости мы брали alpha = 0.05, это озачает что мы рискуем получить ошибку первого рода в одном из 20 случаев. \n",
    "\n",
    "Мы провели 20 экспериментов. Если бы взяли больший уровень значимости, например 0.1, вероятность увидеть ложноположительный результат была бы выше в 2 раза.\n",
    "\n",
    "Количество уникальных пользователей в каждой группе:\n",
    "\n",
    "- в **246 группе 2484 уникальных пользователей**\n",
    "\n",
    "- в **247 группе 2513 уникальных пользователей**\n",
    "\n",
    "- в **248 группе 2537 уникальных пользователей**\n",
    "\n",
    "Были совершены следующие действия:\n",
    "\n",
    "- Выбрали самое популярное событие - MainScreenAppear \n",
    "\n",
    "- Посчитали число пользователей, совершивших это событие в каждой из контрольных групп\n",
    "\n",
    "- Посчитали долю пользователей, совершивших это событие\n",
    "\n",
    "- Проверели, будет ли отличие между группами статистически достоверным. Проделали то же самое для всех других событий\n",
    "\n",
    "- Создали функцию для теста статистических различий между группами для каждого события\n",
    "\n",
    "**Аналогично поступили с группой с изменённым шрифтом:**\n",
    "\n",
    "- сравнили результаты с каждой из контрольных групп в отдельности по каждому событию\n",
    "\n",
    "- сравнили результаты с объединённой контрольной группой\n",
    "\n",
    "**Итоги:**\n",
    "\n",
    "1. сравнение групп 246 и 247:\n",
    "    - Статистические критерии разницу между выборками 246 и 247 не находят, т.к. ни для оного из событий разница не оказалось значимой обе эти группы можно считать контрольными. Разбиение на группы работает корректно.\n",
    "2. сравнение групп 246 и 248:\n",
    "    - Значимой разницы в поведении пользователей групп 246 и 248 нет.\n",
    "3. сравнение групп 247 и 248:\n",
    "    - Значимой разницы в поведении пользователей групп 247 и 248 нет.\n",
    "4. сравнение групп 246+247 и 248:\n",
    "    - Значимой разницы в поведении пользователей объедененной контрольной группы и эксперементальной группы нет.\n",
    "\n",
    "\n",
    "**Вывод:**\n",
    "\n",
    "**Множесто А/В-тестов, проведённых по каждому из событий, не обнаружили статистически значимой разницы между группами. Т.е. изменение шрифтов в приложении на поведение пользователей не повлияло.**"
   ]
  }
 ],
 "metadata": {
  "ExecuteTimeLog": [
   {
    "duration": 1309,
    "start_time": "2023-11-07T08:46:08.483Z"
   },
   {
    "duration": 699,
    "start_time": "2023-11-07T08:47:48.017Z"
   },
   {
    "duration": 11,
    "start_time": "2023-11-07T08:49:09.264Z"
   },
   {
    "duration": 22,
    "start_time": "2023-11-07T08:49:27.318Z"
   },
   {
    "duration": 3,
    "start_time": "2023-11-07T08:51:13.750Z"
   },
   {
    "duration": 17,
    "start_time": "2023-11-07T08:54:11.603Z"
   },
   {
    "duration": 62,
    "start_time": "2023-11-07T08:54:23.989Z"
   },
   {
    "duration": 59,
    "start_time": "2023-11-07T08:55:03.395Z"
   },
   {
    "duration": 72,
    "start_time": "2023-11-07T08:55:10.745Z"
   },
   {
    "duration": 61,
    "start_time": "2023-11-07T08:55:38.424Z"
   },
   {
    "duration": 20,
    "start_time": "2023-11-07T08:56:16.888Z"
   },
   {
    "duration": 7,
    "start_time": "2023-11-07T08:58:54.012Z"
   },
   {
    "duration": 100,
    "start_time": "2023-11-07T08:59:32.774Z"
   },
   {
    "duration": 27,
    "start_time": "2023-11-07T09:01:36.754Z"
   },
   {
    "duration": 15,
    "start_time": "2023-11-07T09:01:59.327Z"
   },
   {
    "duration": 13,
    "start_time": "2023-11-07T09:02:10.469Z"
   },
   {
    "duration": 14,
    "start_time": "2023-11-07T09:02:21.379Z"
   },
   {
    "duration": 15,
    "start_time": "2023-11-07T09:05:11.645Z"
   },
   {
    "duration": 9,
    "start_time": "2023-11-07T09:05:54.018Z"
   },
   {
    "duration": 22,
    "start_time": "2023-11-07T09:06:20.801Z"
   },
   {
    "duration": 5,
    "start_time": "2023-11-07T09:08:40.931Z"
   },
   {
    "duration": 3,
    "start_time": "2023-11-07T09:08:57.844Z"
   },
   {
    "duration": 384,
    "start_time": "2023-11-07T09:10:12.470Z"
   },
   {
    "duration": 98,
    "start_time": "2023-11-07T09:19:14.026Z"
   },
   {
    "duration": 17,
    "start_time": "2023-11-07T09:19:27.130Z"
   },
   {
    "duration": 4,
    "start_time": "2023-11-07T09:20:28.878Z"
   },
   {
    "duration": 3,
    "start_time": "2023-11-07T09:21:25.229Z"
   },
   {
    "duration": 12,
    "start_time": "2023-11-07T09:21:50.937Z"
   },
   {
    "duration": 142,
    "start_time": "2023-11-07T09:22:33.732Z"
   },
   {
    "duration": 14,
    "start_time": "2023-11-07T09:24:21.625Z"
   },
   {
    "duration": 17,
    "start_time": "2023-11-07T09:25:16.782Z"
   },
   {
    "duration": 47,
    "start_time": "2023-11-07T09:50:34.063Z"
   },
   {
    "duration": 67,
    "start_time": "2023-11-07T09:52:30.710Z"
   },
   {
    "duration": 87,
    "start_time": "2023-11-07T09:57:49.377Z"
   },
   {
    "duration": 4,
    "start_time": "2023-11-07T09:58:16.689Z"
   },
   {
    "duration": 4,
    "start_time": "2023-11-07T09:58:25.109Z"
   },
   {
    "duration": 11,
    "start_time": "2023-11-07T09:58:33.011Z"
   },
   {
    "duration": 45,
    "start_time": "2023-11-07T10:07:47.637Z"
   },
   {
    "duration": 21,
    "start_time": "2023-11-07T10:11:43.338Z"
   },
   {
    "duration": 26,
    "start_time": "2023-11-07T10:12:14.937Z"
   },
   {
    "duration": 23,
    "start_time": "2023-11-07T10:12:35.496Z"
   },
   {
    "duration": 35,
    "start_time": "2023-11-07T10:13:34.348Z"
   },
   {
    "duration": 5,
    "start_time": "2023-11-07T10:13:56.265Z"
   },
   {
    "duration": 100,
    "start_time": "2023-11-07T10:14:17.897Z"
   },
   {
    "duration": 78,
    "start_time": "2023-11-07T10:16:02.640Z"
   },
   {
    "duration": 79,
    "start_time": "2023-11-07T10:16:23.141Z"
   },
   {
    "duration": 8,
    "start_time": "2023-11-07T10:16:44.509Z"
   },
   {
    "duration": 115,
    "start_time": "2023-11-07T10:16:52.996Z"
   },
   {
    "duration": 1205,
    "start_time": "2023-11-07T10:26:32.667Z"
   },
   {
    "duration": 173,
    "start_time": "2023-11-07T10:26:33.873Z"
   },
   {
    "duration": 11,
    "start_time": "2023-11-07T10:26:34.047Z"
   },
   {
    "duration": 48,
    "start_time": "2023-11-07T10:26:34.060Z"
   },
   {
    "duration": 3,
    "start_time": "2023-11-07T10:26:34.110Z"
   },
   {
    "duration": 36,
    "start_time": "2023-11-07T10:26:34.114Z"
   },
   {
    "duration": 85,
    "start_time": "2023-11-07T10:26:34.152Z"
   },
   {
    "duration": 69,
    "start_time": "2023-11-07T10:26:34.239Z"
   },
   {
    "duration": 78,
    "start_time": "2023-11-07T10:26:34.309Z"
   },
   {
    "duration": 56,
    "start_time": "2023-11-07T10:26:34.390Z"
   },
   {
    "duration": 32,
    "start_time": "2023-11-07T10:26:34.449Z"
   },
   {
    "duration": 6,
    "start_time": "2023-11-07T10:26:34.483Z"
   },
   {
    "duration": 116,
    "start_time": "2023-11-07T10:26:34.491Z"
   },
   {
    "duration": 28,
    "start_time": "2023-11-07T10:26:34.609Z"
   },
   {
    "duration": 40,
    "start_time": "2023-11-07T10:26:34.638Z"
   },
   {
    "duration": 14,
    "start_time": "2023-11-07T10:26:34.680Z"
   },
   {
    "duration": 16,
    "start_time": "2023-11-07T10:26:34.696Z"
   },
   {
    "duration": 22,
    "start_time": "2023-11-07T10:26:34.714Z"
   },
   {
    "duration": 37,
    "start_time": "2023-11-07T10:26:34.738Z"
   },
   {
    "duration": 21,
    "start_time": "2023-11-07T10:26:34.777Z"
   },
   {
    "duration": 3,
    "start_time": "2023-11-07T10:26:34.800Z"
   },
   {
    "duration": 10,
    "start_time": "2023-11-07T10:26:34.805Z"
   },
   {
    "duration": 468,
    "start_time": "2023-11-07T10:26:34.817Z"
   },
   {
    "duration": 16,
    "start_time": "2023-11-07T10:26:35.286Z"
   },
   {
    "duration": 5,
    "start_time": "2023-11-07T10:26:35.303Z"
   },
   {
    "duration": 7,
    "start_time": "2023-11-07T10:26:35.309Z"
   },
   {
    "duration": 19,
    "start_time": "2023-11-07T10:26:35.318Z"
   },
   {
    "duration": 39,
    "start_time": "2023-11-07T10:26:35.342Z"
   },
   {
    "duration": 22,
    "start_time": "2023-11-07T10:26:35.383Z"
   },
   {
    "duration": 61,
    "start_time": "2023-11-07T10:26:35.407Z"
   },
   {
    "duration": 61,
    "start_time": "2023-11-07T10:26:35.469Z"
   },
   {
    "duration": 88,
    "start_time": "2023-11-07T10:26:35.531Z"
   },
   {
    "duration": 4,
    "start_time": "2023-11-07T10:26:35.621Z"
   },
   {
    "duration": 8,
    "start_time": "2023-11-07T10:26:35.626Z"
   },
   {
    "duration": 10,
    "start_time": "2023-11-07T10:26:35.635Z"
   },
   {
    "duration": 4,
    "start_time": "2023-11-07T10:26:35.646Z"
   },
   {
    "duration": 42,
    "start_time": "2023-11-07T10:26:35.669Z"
   },
   {
    "duration": 21,
    "start_time": "2023-11-07T10:26:35.712Z"
   },
   {
    "duration": 44,
    "start_time": "2023-11-07T10:26:35.735Z"
   },
   {
    "duration": 24,
    "start_time": "2023-11-07T10:26:35.781Z"
   },
   {
    "duration": 25,
    "start_time": "2023-11-07T10:26:35.806Z"
   },
   {
    "duration": 6,
    "start_time": "2023-11-07T10:26:35.833Z"
   },
   {
    "duration": 118,
    "start_time": "2023-11-07T10:26:35.841Z"
   },
   {
    "duration": 80,
    "start_time": "2023-11-07T10:26:35.969Z"
   },
   {
    "duration": 95,
    "start_time": "2023-11-07T10:26:36.050Z"
   },
   {
    "duration": 25,
    "start_time": "2023-11-07T10:26:36.147Z"
   },
   {
    "duration": 122,
    "start_time": "2023-11-07T10:26:36.173Z"
   },
   {
    "duration": 1444,
    "start_time": "2023-11-09T07:21:31.888Z"
   },
   {
    "duration": 519,
    "start_time": "2023-11-09T07:21:37.703Z"
   },
   {
    "duration": 11,
    "start_time": "2023-11-09T07:21:43.338Z"
   },
   {
    "duration": 22,
    "start_time": "2023-11-09T07:21:58.174Z"
   },
   {
    "duration": 5,
    "start_time": "2023-11-09T07:26:02.707Z"
   },
   {
    "duration": 16,
    "start_time": "2023-11-09T07:29:46.260Z"
   },
   {
    "duration": 9,
    "start_time": "2023-11-09T07:29:59.951Z"
   },
   {
    "duration": 21,
    "start_time": "2023-11-09T07:30:04.633Z"
   },
   {
    "duration": 26,
    "start_time": "2023-11-09T07:30:37.424Z"
   },
   {
    "duration": 79,
    "start_time": "2023-11-09T07:30:40.096Z"
   },
   {
    "duration": 56,
    "start_time": "2023-11-09T07:30:44.282Z"
   },
   {
    "duration": 65,
    "start_time": "2023-11-09T07:31:01.355Z"
   },
   {
    "duration": 73,
    "start_time": "2023-11-09T07:31:25.100Z"
   },
   {
    "duration": 57,
    "start_time": "2023-11-09T07:31:30.098Z"
   },
   {
    "duration": 20,
    "start_time": "2023-11-09T07:31:33.097Z"
   },
   {
    "duration": 12,
    "start_time": "2023-11-09T07:31:53.191Z"
   },
   {
    "duration": 106,
    "start_time": "2023-11-09T07:31:59.188Z"
   },
   {
    "duration": 31,
    "start_time": "2023-11-09T07:32:17.538Z"
   },
   {
    "duration": 14,
    "start_time": "2023-11-09T07:32:21.243Z"
   },
   {
    "duration": 13,
    "start_time": "2023-11-09T07:32:23.319Z"
   },
   {
    "duration": 15,
    "start_time": "2023-11-09T07:32:25.320Z"
   },
   {
    "duration": 9,
    "start_time": "2023-11-09T07:37:21.955Z"
   },
   {
    "duration": 3,
    "start_time": "2023-11-09T07:40:52.078Z"
   },
   {
    "duration": 5,
    "start_time": "2023-11-09T07:41:36.343Z"
   },
   {
    "duration": 5,
    "start_time": "2023-11-09T07:43:52.983Z"
   },
   {
    "duration": 99,
    "start_time": "2023-11-09T07:44:17.529Z"
   },
   {
    "duration": 29,
    "start_time": "2023-11-09T07:44:35.677Z"
   },
   {
    "duration": 30,
    "start_time": "2023-11-09T07:45:16.652Z"
   },
   {
    "duration": 28,
    "start_time": "2023-11-09T07:45:30.081Z"
   },
   {
    "duration": 3,
    "start_time": "2023-11-09T07:47:53.885Z"
   },
   {
    "duration": 5,
    "start_time": "2023-11-09T07:47:56.037Z"
   },
   {
    "duration": 406,
    "start_time": "2023-11-09T07:48:12.691Z"
   },
   {
    "duration": 17,
    "start_time": "2023-11-09T07:51:25.016Z"
   },
   {
    "duration": 312,
    "start_time": "2023-11-09T07:51:40.968Z"
   },
   {
    "duration": 1223,
    "start_time": "2023-11-09T07:52:03.697Z"
   },
   {
    "duration": 1318,
    "start_time": "2023-11-09T07:53:02.106Z"
   },
   {
    "duration": 35,
    "start_time": "2023-11-09T07:55:19.490Z"
   },
   {
    "duration": 32,
    "start_time": "2023-11-09T07:56:30.443Z"
   },
   {
    "duration": 4,
    "start_time": "2023-11-09T07:58:14.603Z"
   },
   {
    "duration": 3,
    "start_time": "2023-11-09T07:58:18.458Z"
   },
   {
    "duration": 13,
    "start_time": "2023-11-09T07:58:31.365Z"
   },
   {
    "duration": 14,
    "start_time": "2023-11-09T07:58:36.667Z"
   },
   {
    "duration": 16,
    "start_time": "2023-11-09T08:00:12.754Z"
   },
   {
    "duration": 3,
    "start_time": "2023-11-09T08:01:26.801Z"
   },
   {
    "duration": 3,
    "start_time": "2023-11-09T08:01:39.825Z"
   },
   {
    "duration": 15,
    "start_time": "2023-11-09T08:01:55.269Z"
   },
   {
    "duration": 39,
    "start_time": "2023-11-09T08:02:13.403Z"
   },
   {
    "duration": 29,
    "start_time": "2023-11-09T08:02:34.963Z"
   },
   {
    "duration": 44,
    "start_time": "2023-11-09T08:10:39.795Z"
   },
   {
    "duration": 65,
    "start_time": "2023-11-09T08:12:11.654Z"
   },
   {
    "duration": 23,
    "start_time": "2023-11-09T08:14:22.260Z"
   },
   {
    "duration": 78,
    "start_time": "2023-11-09T08:19:54.339Z"
   },
   {
    "duration": 5,
    "start_time": "2023-11-09T08:20:00.907Z"
   },
   {
    "duration": 5,
    "start_time": "2023-11-09T08:20:07.060Z"
   },
   {
    "duration": 9,
    "start_time": "2023-11-09T08:20:12.370Z"
   },
   {
    "duration": 4,
    "start_time": "2023-11-09T08:21:30.731Z"
   },
   {
    "duration": 52,
    "start_time": "2023-11-09T08:34:12.640Z"
   },
   {
    "duration": 26,
    "start_time": "2023-11-09T08:36:34.870Z"
   },
   {
    "duration": 28,
    "start_time": "2023-11-09T08:36:45.829Z"
   },
   {
    "duration": 26,
    "start_time": "2023-11-09T08:37:01.043Z"
   },
   {
    "duration": 212,
    "start_time": "2023-11-09T08:40:46.846Z"
   },
   {
    "duration": 45,
    "start_time": "2023-11-09T08:44:28.541Z"
   },
   {
    "duration": 6,
    "start_time": "2023-11-09T08:44:39.225Z"
   },
   {
    "duration": 120,
    "start_time": "2023-11-09T08:44:43.395Z"
   },
   {
    "duration": 91,
    "start_time": "2023-11-09T08:45:19.571Z"
   },
   {
    "duration": 96,
    "start_time": "2023-11-09T08:45:32.269Z"
   },
   {
    "duration": 12,
    "start_time": "2023-11-09T08:45:41.924Z"
   },
   {
    "duration": 135,
    "start_time": "2023-11-09T08:45:44.039Z"
   },
   {
    "duration": 1336,
    "start_time": "2023-11-09T08:59:35.385Z"
   },
   {
    "duration": 185,
    "start_time": "2023-11-09T08:59:36.723Z"
   },
   {
    "duration": 16,
    "start_time": "2023-11-09T08:59:36.909Z"
   },
   {
    "duration": 34,
    "start_time": "2023-11-09T08:59:36.926Z"
   },
   {
    "duration": 3,
    "start_time": "2023-11-09T08:59:36.962Z"
   },
   {
    "duration": 31,
    "start_time": "2023-11-09T08:59:36.967Z"
   },
   {
    "duration": 26,
    "start_time": "2023-11-09T08:59:37.000Z"
   },
   {
    "duration": 17,
    "start_time": "2023-11-09T08:59:37.028Z"
   },
   {
    "duration": 89,
    "start_time": "2023-11-09T08:59:37.047Z"
   },
   {
    "duration": 76,
    "start_time": "2023-11-09T08:59:37.138Z"
   },
   {
    "duration": 76,
    "start_time": "2023-11-09T08:59:37.216Z"
   },
   {
    "duration": 65,
    "start_time": "2023-11-09T08:59:37.294Z"
   },
   {
    "duration": 22,
    "start_time": "2023-11-09T08:59:37.361Z"
   },
   {
    "duration": 17,
    "start_time": "2023-11-09T08:59:37.406Z"
   },
   {
    "duration": 119,
    "start_time": "2023-11-09T08:59:37.424Z"
   },
   {
    "duration": 10,
    "start_time": "2023-11-09T08:59:37.545Z"
   },
   {
    "duration": 46,
    "start_time": "2023-11-09T08:59:37.557Z"
   },
   {
    "duration": 14,
    "start_time": "2023-11-09T08:59:37.606Z"
   },
   {
    "duration": 25,
    "start_time": "2023-11-09T08:59:37.622Z"
   },
   {
    "duration": 15,
    "start_time": "2023-11-09T08:59:37.649Z"
   },
   {
    "duration": 18,
    "start_time": "2023-11-09T08:59:37.665Z"
   },
   {
    "duration": 5,
    "start_time": "2023-11-09T08:59:37.684Z"
   },
   {
    "duration": 11,
    "start_time": "2023-11-09T08:59:37.708Z"
   },
   {
    "duration": 7,
    "start_time": "2023-11-09T08:59:37.720Z"
   },
   {
    "duration": 21,
    "start_time": "2023-11-09T08:59:37.729Z"
   },
   {
    "duration": 5,
    "start_time": "2023-11-09T08:59:37.751Z"
   },
   {
    "duration": 67,
    "start_time": "2023-11-09T08:59:37.757Z"
   },
   {
    "duration": 3,
    "start_time": "2023-11-09T08:59:37.826Z"
   },
   {
    "duration": 13,
    "start_time": "2023-11-09T08:59:37.831Z"
   },
   {
    "duration": 422,
    "start_time": "2023-11-09T08:59:37.845Z"
   },
   {
    "duration": 16,
    "start_time": "2023-11-09T08:59:38.269Z"
   },
   {
    "duration": 56,
    "start_time": "2023-11-09T08:59:38.286Z"
   },
   {
    "duration": 3,
    "start_time": "2023-11-09T08:59:38.344Z"
   },
   {
    "duration": 12,
    "start_time": "2023-11-09T08:59:38.348Z"
   },
   {
    "duration": 38,
    "start_time": "2023-11-09T08:59:38.362Z"
   },
   {
    "duration": 30,
    "start_time": "2023-11-09T08:59:38.402Z"
   },
   {
    "duration": 28,
    "start_time": "2023-11-09T08:59:38.434Z"
   },
   {
    "duration": 43,
    "start_time": "2023-11-09T08:59:38.464Z"
   },
   {
    "duration": 63,
    "start_time": "2023-11-09T08:59:38.509Z"
   },
   {
    "duration": 101,
    "start_time": "2023-11-09T08:59:38.574Z"
   },
   {
    "duration": 5,
    "start_time": "2023-11-09T08:59:38.678Z"
   },
   {
    "duration": 12,
    "start_time": "2023-11-09T08:59:38.684Z"
   },
   {
    "duration": 17,
    "start_time": "2023-11-09T08:59:38.698Z"
   },
   {
    "duration": 12,
    "start_time": "2023-11-09T08:59:38.717Z"
   },
   {
    "duration": 45,
    "start_time": "2023-11-09T08:59:38.731Z"
   },
   {
    "duration": 48,
    "start_time": "2023-11-09T08:59:38.778Z"
   },
   {
    "duration": 28,
    "start_time": "2023-11-09T08:59:38.828Z"
   },
   {
    "duration": 25,
    "start_time": "2023-11-09T08:59:38.857Z"
   },
   {
    "duration": 235,
    "start_time": "2023-11-09T08:59:38.883Z"
   },
   {
    "duration": 25,
    "start_time": "2023-11-09T08:59:39.119Z"
   },
   {
    "duration": 6,
    "start_time": "2023-11-09T08:59:39.146Z"
   },
   {
    "duration": 109,
    "start_time": "2023-11-09T08:59:39.153Z"
   },
   {
    "duration": 95,
    "start_time": "2023-11-09T08:59:39.265Z"
   },
   {
    "duration": 100,
    "start_time": "2023-11-09T08:59:39.362Z"
   },
   {
    "duration": 9,
    "start_time": "2023-11-09T08:59:39.464Z"
   },
   {
    "duration": 144,
    "start_time": "2023-11-09T08:59:39.475Z"
   },
   {
    "duration": 1365,
    "start_time": "2023-11-09T09:31:35.994Z"
   },
   {
    "duration": 747,
    "start_time": "2023-11-09T09:31:37.361Z"
   },
   {
    "duration": 14,
    "start_time": "2023-11-09T09:31:38.110Z"
   },
   {
    "duration": 60,
    "start_time": "2023-11-09T09:31:38.127Z"
   },
   {
    "duration": 17,
    "start_time": "2023-11-09T09:31:38.189Z"
   },
   {
    "duration": 48,
    "start_time": "2023-11-09T09:31:38.209Z"
   },
   {
    "duration": 46,
    "start_time": "2023-11-09T09:31:38.259Z"
   },
   {
    "duration": 31,
    "start_time": "2023-11-09T09:31:38.307Z"
   },
   {
    "duration": 100,
    "start_time": "2023-11-09T09:31:38.340Z"
   },
   {
    "duration": 86,
    "start_time": "2023-11-09T09:31:38.444Z"
   },
   {
    "duration": 89,
    "start_time": "2023-11-09T09:31:38.532Z"
   },
   {
    "duration": 76,
    "start_time": "2023-11-09T09:31:38.623Z"
   },
   {
    "duration": 44,
    "start_time": "2023-11-09T09:31:38.700Z"
   },
   {
    "duration": 27,
    "start_time": "2023-11-09T09:31:38.746Z"
   },
   {
    "duration": 114,
    "start_time": "2023-11-09T09:31:38.775Z"
   },
   {
    "duration": 9,
    "start_time": "2023-11-09T09:31:38.891Z"
   },
   {
    "duration": 43,
    "start_time": "2023-11-09T09:31:38.902Z"
   },
   {
    "duration": 14,
    "start_time": "2023-11-09T09:31:38.948Z"
   },
   {
    "duration": 20,
    "start_time": "2023-11-09T09:31:38.964Z"
   },
   {
    "duration": 41,
    "start_time": "2023-11-09T09:31:38.986Z"
   },
   {
    "duration": 30,
    "start_time": "2023-11-09T09:31:39.029Z"
   },
   {
    "duration": 15,
    "start_time": "2023-11-09T09:31:39.062Z"
   },
   {
    "duration": 21,
    "start_time": "2023-11-09T09:31:39.079Z"
   },
   {
    "duration": 11,
    "start_time": "2023-11-09T09:31:39.103Z"
   },
   {
    "duration": 50,
    "start_time": "2023-11-09T09:31:39.116Z"
   },
   {
    "duration": 7,
    "start_time": "2023-11-09T09:31:39.168Z"
   },
   {
    "duration": 56,
    "start_time": "2023-11-09T09:31:39.177Z"
   },
   {
    "duration": 5,
    "start_time": "2023-11-09T09:31:39.243Z"
   },
   {
    "duration": 14,
    "start_time": "2023-11-09T09:31:39.250Z"
   },
   {
    "duration": 437,
    "start_time": "2023-11-09T09:31:39.266Z"
   },
   {
    "duration": 16,
    "start_time": "2023-11-09T09:31:39.705Z"
   },
   {
    "duration": 67,
    "start_time": "2023-11-09T09:31:39.723Z"
   },
   {
    "duration": 8,
    "start_time": "2023-11-09T09:31:39.792Z"
   },
   {
    "duration": 8,
    "start_time": "2023-11-09T09:31:39.802Z"
   },
   {
    "duration": 18,
    "start_time": "2023-11-09T09:31:39.812Z"
   },
   {
    "duration": 20,
    "start_time": "2023-11-09T09:31:39.843Z"
   },
   {
    "duration": 41,
    "start_time": "2023-11-09T09:31:39.865Z"
   },
   {
    "duration": 72,
    "start_time": "2023-11-09T09:31:39.908Z"
   },
   {
    "duration": 105,
    "start_time": "2023-11-09T09:31:39.982Z"
   },
   {
    "duration": 95,
    "start_time": "2023-11-09T09:31:40.089Z"
   },
   {
    "duration": 5,
    "start_time": "2023-11-09T09:31:40.186Z"
   },
   {
    "duration": 90,
    "start_time": "2023-11-09T09:31:40.192Z"
   },
   {
    "duration": 43,
    "start_time": "2023-11-09T09:31:40.284Z"
   },
   {
    "duration": 8,
    "start_time": "2023-11-09T09:31:40.330Z"
   },
   {
    "duration": 72,
    "start_time": "2023-11-09T09:31:40.340Z"
   },
   {
    "duration": 28,
    "start_time": "2023-11-09T09:31:40.414Z"
   },
   {
    "duration": 43,
    "start_time": "2023-11-09T09:31:40.444Z"
   },
   {
    "duration": 36,
    "start_time": "2023-11-09T09:31:40.489Z"
   },
   {
    "duration": 261,
    "start_time": "2023-11-09T09:31:40.527Z"
   },
   {
    "duration": 26,
    "start_time": "2023-11-09T09:31:40.790Z"
   },
   {
    "duration": 26,
    "start_time": "2023-11-09T09:31:40.818Z"
   },
   {
    "duration": 142,
    "start_time": "2023-11-09T09:31:40.846Z"
   },
   {
    "duration": 141,
    "start_time": "2023-11-09T09:31:40.990Z"
   },
   {
    "duration": 150,
    "start_time": "2023-11-09T09:31:41.133Z"
   },
   {
    "duration": 13,
    "start_time": "2023-11-09T09:31:41.285Z"
   },
   {
    "duration": 216,
    "start_time": "2023-11-09T09:31:41.300Z"
   },
   {
    "duration": 1793,
    "start_time": "2023-11-10T07:52:47.424Z"
   },
   {
    "duration": 601,
    "start_time": "2023-11-10T07:52:49.219Z"
   },
   {
    "duration": 22,
    "start_time": "2023-11-10T07:52:49.834Z"
   },
   {
    "duration": 36,
    "start_time": "2023-11-10T07:52:49.862Z"
   },
   {
    "duration": 4,
    "start_time": "2023-11-10T07:52:49.900Z"
   },
   {
    "duration": 46,
    "start_time": "2023-11-10T07:52:49.905Z"
   },
   {
    "duration": 40,
    "start_time": "2023-11-10T07:52:49.954Z"
   },
   {
    "duration": 72,
    "start_time": "2023-11-10T07:52:49.996Z"
   },
   {
    "duration": 88,
    "start_time": "2023-11-10T07:52:50.070Z"
   },
   {
    "duration": 101,
    "start_time": "2023-11-10T07:52:50.161Z"
   },
   {
    "duration": 83,
    "start_time": "2023-11-10T07:52:50.263Z"
   },
   {
    "duration": 81,
    "start_time": "2023-11-10T07:52:50.348Z"
   },
   {
    "duration": 37,
    "start_time": "2023-11-10T07:52:50.430Z"
   },
   {
    "duration": 31,
    "start_time": "2023-11-10T07:52:50.471Z"
   },
   {
    "duration": 188,
    "start_time": "2023-11-10T07:52:50.505Z"
   },
   {
    "duration": 36,
    "start_time": "2023-11-10T07:52:50.696Z"
   },
   {
    "duration": 68,
    "start_time": "2023-11-10T07:52:50.741Z"
   },
   {
    "duration": 36,
    "start_time": "2023-11-10T07:52:50.810Z"
   },
   {
    "duration": 37,
    "start_time": "2023-11-10T07:52:50.851Z"
   },
   {
    "duration": 39,
    "start_time": "2023-11-10T07:52:50.891Z"
   },
   {
    "duration": 42,
    "start_time": "2023-11-10T07:52:50.931Z"
   },
   {
    "duration": 38,
    "start_time": "2023-11-10T07:52:50.976Z"
   },
   {
    "duration": 56,
    "start_time": "2023-11-10T07:52:51.016Z"
   },
   {
    "duration": 37,
    "start_time": "2023-11-10T07:52:51.074Z"
   },
   {
    "duration": 48,
    "start_time": "2023-11-10T07:52:51.113Z"
   },
   {
    "duration": 27,
    "start_time": "2023-11-10T07:52:51.163Z"
   },
   {
    "duration": 72,
    "start_time": "2023-11-10T07:52:51.193Z"
   },
   {
    "duration": 4,
    "start_time": "2023-11-10T07:52:51.271Z"
   },
   {
    "duration": 31,
    "start_time": "2023-11-10T07:52:51.277Z"
   },
   {
    "duration": 608,
    "start_time": "2023-11-10T07:52:51.310Z"
   },
   {
    "duration": 31,
    "start_time": "2023-11-10T07:52:51.919Z"
   },
   {
    "duration": 74,
    "start_time": "2023-11-10T07:52:51.952Z"
   },
   {
    "duration": 13,
    "start_time": "2023-11-10T07:52:52.032Z"
   },
   {
    "duration": 39,
    "start_time": "2023-11-10T07:52:52.048Z"
   },
   {
    "duration": 50,
    "start_time": "2023-11-10T07:52:52.089Z"
   },
   {
    "duration": 40,
    "start_time": "2023-11-10T07:52:52.143Z"
   },
   {
    "duration": 80,
    "start_time": "2023-11-10T07:52:52.186Z"
   },
   {
    "duration": 69,
    "start_time": "2023-11-10T07:52:52.269Z"
   },
   {
    "duration": 91,
    "start_time": "2023-11-10T07:52:52.345Z"
   },
   {
    "duration": 114,
    "start_time": "2023-11-10T07:52:52.439Z"
   },
   {
    "duration": 5,
    "start_time": "2023-11-10T07:52:52.555Z"
   },
   {
    "duration": 44,
    "start_time": "2023-11-10T07:52:52.562Z"
   },
   {
    "duration": 43,
    "start_time": "2023-11-10T07:52:52.608Z"
   },
   {
    "duration": 35,
    "start_time": "2023-11-10T07:52:52.654Z"
   },
   {
    "duration": 91,
    "start_time": "2023-11-10T07:52:52.691Z"
   },
   {
    "duration": 20,
    "start_time": "2023-11-10T07:52:52.784Z"
   },
   {
    "duration": 59,
    "start_time": "2023-11-10T07:52:52.806Z"
   },
   {
    "duration": 27,
    "start_time": "2023-11-10T07:52:52.866Z"
   },
   {
    "duration": 291,
    "start_time": "2023-11-10T07:52:52.895Z"
   },
   {
    "duration": 59,
    "start_time": "2023-11-10T07:52:53.189Z"
   },
   {
    "duration": 8,
    "start_time": "2023-11-10T07:52:53.252Z"
   },
   {
    "duration": 148,
    "start_time": "2023-11-10T07:52:53.262Z"
   },
   {
    "duration": 135,
    "start_time": "2023-11-10T07:52:53.411Z"
   },
   {
    "duration": 104,
    "start_time": "2023-11-10T07:52:53.548Z"
   },
   {
    "duration": 10,
    "start_time": "2023-11-10T07:52:53.654Z"
   },
   {
    "duration": 177,
    "start_time": "2023-11-10T07:52:53.665Z"
   },
   {
    "duration": 118,
    "start_time": "2023-11-10T07:52:53.845Z"
   },
   {
    "duration": 19,
    "start_time": "2023-11-10T08:18:08.565Z"
   },
   {
    "duration": 10,
    "start_time": "2023-11-10T08:34:54.882Z"
   },
   {
    "duration": 13,
    "start_time": "2023-11-10T08:35:13.228Z"
   },
   {
    "duration": 4,
    "start_time": "2023-11-10T08:36:37.063Z"
   },
   {
    "duration": 7,
    "start_time": "2023-11-10T08:39:02.054Z"
   },
   {
    "duration": 116,
    "start_time": "2023-11-10T08:39:24.240Z"
   },
   {
    "duration": 127,
    "start_time": "2023-11-10T08:39:51.542Z"
   },
   {
    "duration": 128,
    "start_time": "2023-11-10T08:40:07.733Z"
   },
   {
    "duration": 106,
    "start_time": "2023-11-10T08:40:39.039Z"
   },
   {
    "duration": 126,
    "start_time": "2023-11-10T08:40:46.619Z"
   },
   {
    "duration": 120,
    "start_time": "2023-11-10T08:40:53.781Z"
   },
   {
    "duration": 163,
    "start_time": "2023-11-10T08:40:59.081Z"
   },
   {
    "duration": 1419,
    "start_time": "2023-11-10T08:55:40.674Z"
   },
   {
    "duration": 213,
    "start_time": "2023-11-10T08:55:42.095Z"
   },
   {
    "duration": 23,
    "start_time": "2023-11-10T08:55:42.310Z"
   },
   {
    "duration": 37,
    "start_time": "2023-11-10T08:55:42.337Z"
   },
   {
    "duration": 46,
    "start_time": "2023-11-10T08:55:42.376Z"
   },
   {
    "duration": 33,
    "start_time": "2023-11-10T08:55:42.425Z"
   },
   {
    "duration": 56,
    "start_time": "2023-11-10T08:55:42.459Z"
   },
   {
    "duration": 41,
    "start_time": "2023-11-10T08:55:42.517Z"
   },
   {
    "duration": 109,
    "start_time": "2023-11-10T08:55:42.560Z"
   },
   {
    "duration": 81,
    "start_time": "2023-11-10T08:55:42.672Z"
   },
   {
    "duration": 95,
    "start_time": "2023-11-10T08:55:42.754Z"
   },
   {
    "duration": 67,
    "start_time": "2023-11-10T08:55:42.851Z"
   },
   {
    "duration": 28,
    "start_time": "2023-11-10T08:55:42.920Z"
   },
   {
    "duration": 52,
    "start_time": "2023-11-10T08:55:42.950Z"
   },
   {
    "duration": 146,
    "start_time": "2023-11-10T08:55:43.004Z"
   },
   {
    "duration": 11,
    "start_time": "2023-11-10T08:55:43.152Z"
   },
   {
    "duration": 78,
    "start_time": "2023-11-10T08:55:43.165Z"
   },
   {
    "duration": 17,
    "start_time": "2023-11-10T08:55:43.245Z"
   },
   {
    "duration": 60,
    "start_time": "2023-11-10T08:55:43.264Z"
   },
   {
    "duration": 31,
    "start_time": "2023-11-10T08:55:43.326Z"
   },
   {
    "duration": 25,
    "start_time": "2023-11-10T08:55:43.359Z"
   },
   {
    "duration": 34,
    "start_time": "2023-11-10T08:55:43.386Z"
   },
   {
    "duration": 37,
    "start_time": "2023-11-10T08:55:43.422Z"
   },
   {
    "duration": 21,
    "start_time": "2023-11-10T08:55:43.461Z"
   },
   {
    "duration": 50,
    "start_time": "2023-11-10T08:55:43.484Z"
   },
   {
    "duration": 9,
    "start_time": "2023-11-10T08:55:43.536Z"
   },
   {
    "duration": 65,
    "start_time": "2023-11-10T08:55:43.546Z"
   },
   {
    "duration": 9,
    "start_time": "2023-11-10T08:55:43.616Z"
   },
   {
    "duration": 16,
    "start_time": "2023-11-10T08:55:43.627Z"
   },
   {
    "duration": 576,
    "start_time": "2023-11-10T08:55:43.645Z"
   },
   {
    "duration": 24,
    "start_time": "2023-11-10T08:55:44.223Z"
   },
   {
    "duration": 79,
    "start_time": "2023-11-10T08:55:44.250Z"
   },
   {
    "duration": 9,
    "start_time": "2023-11-10T08:55:44.332Z"
   },
   {
    "duration": 14,
    "start_time": "2023-11-10T08:55:44.343Z"
   },
   {
    "duration": 38,
    "start_time": "2023-11-10T08:55:44.359Z"
   },
   {
    "duration": 31,
    "start_time": "2023-11-10T08:55:44.399Z"
   },
   {
    "duration": 33,
    "start_time": "2023-11-10T08:55:44.436Z"
   },
   {
    "duration": 81,
    "start_time": "2023-11-10T08:55:44.472Z"
   },
   {
    "duration": 109,
    "start_time": "2023-11-10T08:55:44.555Z"
   },
   {
    "duration": 107,
    "start_time": "2023-11-10T08:55:44.666Z"
   },
   {
    "duration": 5,
    "start_time": "2023-11-10T08:55:44.774Z"
   },
   {
    "duration": 25,
    "start_time": "2023-11-10T08:55:44.781Z"
   },
   {
    "duration": 42,
    "start_time": "2023-11-10T08:55:44.808Z"
   },
   {
    "duration": 21,
    "start_time": "2023-11-10T08:55:44.852Z"
   },
   {
    "duration": 104,
    "start_time": "2023-11-10T08:55:44.875Z"
   },
   {
    "duration": 33,
    "start_time": "2023-11-10T08:55:44.981Z"
   },
   {
    "duration": 73,
    "start_time": "2023-11-10T08:55:45.016Z"
   },
   {
    "duration": 41,
    "start_time": "2023-11-10T08:55:45.092Z"
   },
   {
    "duration": 270,
    "start_time": "2023-11-10T08:55:45.135Z"
   },
   {
    "duration": 45,
    "start_time": "2023-11-10T08:55:45.407Z"
   },
   {
    "duration": 51,
    "start_time": "2023-11-10T08:55:45.454Z"
   },
   {
    "duration": 160,
    "start_time": "2023-11-10T08:55:45.507Z"
   },
   {
    "duration": 113,
    "start_time": "2023-11-10T08:55:45.669Z"
   },
   {
    "duration": 114,
    "start_time": "2023-11-10T08:55:45.784Z"
   },
   {
    "duration": 21,
    "start_time": "2023-11-10T08:55:45.900Z"
   },
   {
    "duration": 158,
    "start_time": "2023-11-10T08:55:45.928Z"
   },
   {
    "duration": 5,
    "start_time": "2023-11-10T08:55:46.088Z"
   },
   {
    "duration": 25,
    "start_time": "2023-11-10T08:55:46.095Z"
   },
   {
    "duration": 145,
    "start_time": "2023-11-10T08:55:46.124Z"
   },
   {
    "duration": 112,
    "start_time": "2023-11-10T08:55:46.271Z"
   },
   {
    "duration": 124,
    "start_time": "2023-11-10T08:55:46.385Z"
   },
   {
    "duration": 152,
    "start_time": "2023-11-10T08:55:46.517Z"
   }
  ],
  "kernelspec": {
   "display_name": "Python 3 (ipykernel)",
   "language": "python",
   "name": "python3"
  },
  "language_info": {
   "codemirror_mode": {
    "name": "ipython",
    "version": 3
   },
   "file_extension": ".py",
   "mimetype": "text/x-python",
   "name": "python",
   "nbconvert_exporter": "python",
   "pygments_lexer": "ipython3",
   "version": "3.10.9"
  },
  "toc": {
   "base_numbering": 1,
   "nav_menu": {},
   "number_sections": true,
   "sideBar": true,
   "skip_h1_title": true,
   "title_cell": "Table of Contents",
   "title_sidebar": "Contents",
   "toc_cell": false,
   "toc_position": {
    "height": "calc(100% - 180px)",
    "left": "10px",
    "top": "150px",
    "width": "350px"
   },
   "toc_section_display": true,
   "toc_window_display": false
  }
 },
 "nbformat": 4,
 "nbformat_minor": 2
}
